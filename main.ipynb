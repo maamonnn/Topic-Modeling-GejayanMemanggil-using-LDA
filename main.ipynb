{
 "cells": [
  {
   "cell_type": "code",
   "execution_count": 1,
   "metadata": {},
   "outputs": [],
   "source": [
    "import pandas as pd\n",
    "\n",
    "data = pd.read_csv('./data.csv')"
   ]
  },
  {
   "cell_type": "code",
   "execution_count": 2,
   "metadata": {},
   "outputs": [],
   "source": [
    "data = {\n",
    "    'time' : data['time'],\n",
    "    'tweet' : data['tweet']\n",
    "}"
   ]
  },
  {
   "cell_type": "code",
   "execution_count": 3,
   "metadata": {},
   "outputs": [],
   "source": [
    "df = pd.DataFrame(data)"
   ]
  },
  {
   "cell_type": "code",
   "execution_count": 4,
   "metadata": {},
   "outputs": [
    {
     "data": {
      "application/vnd.microsoft.datawrangler.viewer.v0+json": {
       "columns": [
        {
         "name": "index",
         "rawType": "int64",
         "type": "integer"
        },
        {
         "name": "time",
         "rawType": "object",
         "type": "string"
        },
        {
         "name": "tweet",
         "rawType": "object",
         "type": "string"
        }
       ],
       "ref": "b5bf9712-bdbc-4e43-992a-a6317bf44fdd",
       "rows": [
        [
         "0",
         "23:59:52",
         "Berikut adalah Rilis Pers, Pernyataan Sikap, Kajian, dan Naskah Akademis lengkap terkait Aksi Gejayan Memanggil, Senin, 23 September 2019. Silakan dibaca dan dicermati!\n\n http://bit.ly/RakyatBergerak \n\nSalam, \nAliansi Rakyat Bergerak\n#GejayanMemanggil  pic.twitter.com/10RjuqCJTm"
        ],
        [
         "1",
         "23:59:49",
         "#GejayanMemanggil... Mundurjok  https://twitter.com/panjipras8/status/1175280398521262080 …"
        ],
        [
         "2",
         "23:59:45",
         "Sesok banget #GejayanMemanggil  pic.twitter.com/9dWALWZQwd"
        ],
        [
         "3",
         "23:59:37",
         "Okey, #GejayanMemanggil ✊"
        ],
        [
         "4",
         "23:59:32",
         "Prediksi Keluaran Togel Hongkong Senin 23 September 2019\n\n http://bit.ly/2kubeRL \n#GejayanMemanggil #BesokSenin #열아홉_라이관린의_가을 #HBD_EdwardLai #EmeryOut"
        ],
        [
         "5",
         "23:59:29",
         "Boleh bangett boskuh. #BesokSenin #GejayanMemanggil"
        ],
        [
         "6",
         "23:59:20",
         "Prediksi Keluaran Togel Singapore Senin 23 September 2019\n\n http://bit.ly/2mtjzFV \n#GejayanMemanggil #BesokSenin #열아홉_라이관린의_가을 #HBD_EdwardLai #EmeryOut"
        ],
        [
         "7",
         "23:59:17",
         "Jangan asal aksi, mahasiswa harus lebih berhati\"\nJangan sampai lepas kendali, bisa jadi itu aksi ditunggangi kaum busuk hati\nWaspadalah kalo kata bg Napi, jgn terlalu kebawa suasana ya nanti 😅 #GejayanMemanggil #TapiSayaGakIkut #BesokKerja 👋"
        ],
        [
         "8",
         "23:59:11",
         "Bangkit ! Tunjukan konteks dasar negara PERSATUAN INDONESIA ! Bersatulah sehingga oranglain tidak dapat masuk untuk memecahbelahkan kita\n#GejayanMemanggil"
        ],
        [
         "9",
         "23:59:09",
         "Prediksi Keluaran Togel Sydney Senin 23 September 2019\n\n http://bit.ly/2kXDix4 \n#GejayanMemanggil #BesokSenin #열아홉_라이관린의_가을 #HBD_EdwardLai #EmeryOut"
        ],
        [
         "10",
         "23:59:05",
         "Tetiba muncul di timeline gegara #GejayanMemanggil. Melu seru.."
        ],
        [
         "11",
         "23:59:04",
         "Maju terus teman ku , saudara ku sebangsa dan setanah air. #GejayanMemanggil"
        ],
        [
         "12",
         "23:59:03",
         "#GejayanMemanggil besok yang dimalang kumpul dimana jam brpa ?"
        ],
        [
         "13",
         "23:58:58",
         "Mantapp #GejayanMemanggil  https://twitter.com/im_supermoon/status/1175758550099906560 …"
        ],
        [
         "14",
         "23:58:58",
         "Sudah saatnya.\n#GejayanMemanggil"
        ],
        [
         "15",
         "23:58:53",
         "Gaskeunnnnn #GejayanMemanggil  https://twitter.com/im_supermoon/status/1175758550099906560 …"
        ],
        [
         "16",
         "23:58:52",
         "Setan Merah Kalah Telak Saat Bertandang Ke West Ham Skor 0-2\nLink :  https://bit.ly/2m81i0t \n#manchesterunited #manunited #MU #setanmerah #westhamunited #westham #ligainggris #premierleague #열아홉_라이관린의_가을 #BesokSenin #HBD_EdwardLai #GejayanMemanggil #agenjudibola #bandar"
        ],
        [
         "17",
         "23:58:50",
         "dulu waktu dijogja suka ngakak sendiri kalo lewat sini  #GejayanMemanggil  https://twitter.com/alimaruv/status/1175704005814579201 …"
        ],
        [
         "18",
         "23:58:35",
         "Jangan cuman bokep doang yang bisa menyatukan. #GejayanMemanggil masa kita gak bersatu."
        ],
        [
         "19",
         "23:58:30",
         "#GejayanMemanggil"
        ],
        [
         "20",
         "23:58:30",
         "#GejayanMemanggil\n#GejayanMemanggil\n#GejayanMemanggil  https://twitter.com/kittencatsu/status/1175746060544704513 …"
        ],
        [
         "21",
         "23:58:29",
         "Dari Iwe, untuk Gejayan, oleh AllYouCanArt\n\nTapi gajadi diupload :))\n\n#GejayanMemanggil  pic.twitter.com/iBB9PelUba"
        ],
        [
         "22",
         "23:58:27",
         "Ini tips dari orang yg hanya bisa memantau dari jauh. Silakan dihiraukan nek bagimu ra penting, but I do wish you all the best, folks. #GejayanMemanggil"
        ],
        [
         "23",
         "23:58:26",
         "panjang umur perjuangan. #GejayanMemanggil"
        ],
        [
         "24",
         "23:58:17",
         "yang besok ikut #\nGejayanMemanggil kalo ketemu sama mahasiswa umy namanya asta dan umam tolong salamin ya.\nkalo ada nemu mahasiswa ugm namanya andi tolong salamin sambil bilang \"isiin shopee pay nya aud ya.\" oke\n\nmakasih."
        ],
        [
         "25",
         "23:58:17",
         "MARI KAWAN BUAT SEMAK JL. GEJAYAN\nMARI LANTANGKAN SUARA UNTUK KEBENARAN! AGAR ORASI LANCAR JANGAN LUPA DISANA ADA JUGA LAPAK UNTUK PENGELANCAR CURHAT TAPI BISA DIGUNAKAN AGAR ORASI LANCAR JUGA. MAMPIR UNTUK CEBAN PERTAMA! SELAMATKAN DEMOKRASI KITA #gejayanmemanggil  pic.twitter.com/A6fiSggLk8"
        ],
        [
         "26",
         "23:58:17",
         "#GejayanMemanggil aku dadi eling kosanku."
        ],
        [
         "27",
         "23:58:14",
         "Sehat selalu perlawanan! #GejayanMemanggil"
        ],
        [
         "28",
         "23:57:48",
         "#GejayanMemanggil ketika mahasiswa bergerak, untuk saya, saya bergerak karena #kamipercayaperubahan  bukan semata mata karena apatis"
        ],
        [
         "29",
         "23:57:40",
         "#GejayanMemanggil #MahasiswaBergerak #SemuaBisaKena pic.twitter.com/tWMaZrOUSJ"
        ],
        [
         "30",
         "23:57:38",
         "Doa ini teruntuk bagi kalian yang percaya terhadap Kristus yang besok akan mengikuti aksi tetapi ada halangan yang tidak bisa ditinggal. Semoga Tuhan Yesus Memberkati kalian yang mengikuti aksi besok #GejayanMemanggil"
        ],
        [
         "31",
         "23:57:28",
         "#GejayanMemanggil"
        ],
        [
         "32",
         "23:57:25",
         "Beragam almamater tak mengenal dari mana, tetap jadi pewaris peradaban. Wahai kalian yg turun kejalan, nyala dan bakar api juangmu untuk negeri. Terakhir, hanya ada satu kata. Lawan!\n#GejayanMemanggil"
        ],
        [
         "33",
         "23:57:22",
         "Perkara turun atau tidak, semoga doa kita semua menyertai teman-teman mahasiswa seluruh Indonesia besok.\n#GejayanMemanggil\n#MahasiswaBergerak"
        ],
        [
         "34",
         "23:57:22",
         "Btw man temanku #GejayanMemanggil mbesok jan mabu mabu an ya, untuk mengantisipasi ada yg masuk dan membuat kerusuhan.\nTulung kontrol, besok kaliannmenjadi representasi Yogyakarta.\nTulung cah UIN UIN kui ojo do ngawur ehe ehe ehe"
        ],
        [
         "35",
         "23:57:20",
         "Gejayan oh gejayan nek mangkat lewat kene  #GejayanMemanggil"
        ],
        [
         "36",
         "23:57:18",
         "Menanti twitan \"#GejayanMemanggil dateng giliran orang tua memanggil malah males malesan\""
        ],
        [
         "37",
         "23:57:11",
         " http://bit.ly/RakyatBergerak  dibaca dulu sebelum turun ke jalan ya kawan #GejayanMemanggil"
        ],
        [
         "38",
         "23:57:07",
         "merinding cuy mantengin #GejayanMemanggil."
        ],
        [
         "39",
         "23:56:54",
         "#GejayanMemanggil  pic.twitter.com/Ijif959SEd"
        ],
        [
         "40",
         "23:56:48",
         "Jual cendol dawet\n#GejayanMemanggil  pic.twitter.com/MyTl8ystvU"
        ],
        [
         "41",
         "23:56:47",
         "#GejayanMemanggil  pic.twitter.com/QsMBuyhSbL"
        ],
        [
         "42",
         "23:56:44",
         "Biar #GejayanMemanggil nggak dikira aksi abal-abal. Nih baca dulu pernyataan sikap, kajian dan naskah akademis:  http://bit.ly/RakyatBergerak "
        ],
        [
         "43",
         "23:56:37",
         "Saya yakin #GejayanMemanggil akan menghilangkan label yg kebentuk dalam beberapa tahun ini karena pemilu, tak ada lagi Cebong tak ada lagi Kampret, semua membaur jadi satu pada satu titik temu, Rakyat Indonesia."
        ],
        [
         "44",
         "23:56:26",
         "Sudah siap klean? \n#GejayanMemanggil  pic.twitter.com/SAar4IRsSN"
        ],
        [
         "45",
         "23:56:24",
         "pada pasang hashtag #GejayanMemanggil sih"
        ],
        [
         "46",
         "23:56:22",
         "#GejayanMemanggil\nIni gerakan kami mahasiswa jogja, jgn kau susupi gerakan ini dengan kepentingan mu yang menjijikkan itu bangsaatt"
        ],
        [
         "47",
         "23:56:18",
         "\"Jgn kau penjarakan ucapanmu, jika kau menghamba pada ketakutan, kita hanya akan memperpanjang barisan perbudakan\" - wiji tukul.\n\nPANJANG UMUR PERLAWANAN!\n#GejayanMemanggil"
        ],
        [
         "48",
         "23:56:15",
         "Senangnya bisa ikut, lemes rasanya gk bisa ikutan. Tp lebih parah lg mahasiswa yg gk ikut! ✊ ✊Ayo! #GejayanMemanggil #RakyatBergerak"
        ],
        [
         "49",
         "23:56:14",
         "Everybody: pak bu dosen, Senin kami izin ga berangkat karena #GejayanMemanggil!!! \nRektor UNY:  https://twitter.com/sutrisna_wibawa/status/1175747249663430656 …"
        ]
       ],
       "shape": {
        "columns": 2,
        "rows": 5085
       }
      },
      "text/html": [
       "<div>\n",
       "<style scoped>\n",
       "    .dataframe tbody tr th:only-of-type {\n",
       "        vertical-align: middle;\n",
       "    }\n",
       "\n",
       "    .dataframe tbody tr th {\n",
       "        vertical-align: top;\n",
       "    }\n",
       "\n",
       "    .dataframe thead th {\n",
       "        text-align: right;\n",
       "    }\n",
       "</style>\n",
       "<table border=\"1\" class=\"dataframe\">\n",
       "  <thead>\n",
       "    <tr style=\"text-align: right;\">\n",
       "      <th></th>\n",
       "      <th>time</th>\n",
       "      <th>tweet</th>\n",
       "    </tr>\n",
       "  </thead>\n",
       "  <tbody>\n",
       "    <tr>\n",
       "      <th>0</th>\n",
       "      <td>23:59:52</td>\n",
       "      <td>Berikut adalah Rilis Pers, Pernyataan Sikap, K...</td>\n",
       "    </tr>\n",
       "    <tr>\n",
       "      <th>1</th>\n",
       "      <td>23:59:49</td>\n",
       "      <td>#GejayanMemanggil... Mundurjok  https://twitte...</td>\n",
       "    </tr>\n",
       "    <tr>\n",
       "      <th>2</th>\n",
       "      <td>23:59:45</td>\n",
       "      <td>Sesok banget #GejayanMemanggil  pic.twitter.co...</td>\n",
       "    </tr>\n",
       "    <tr>\n",
       "      <th>3</th>\n",
       "      <td>23:59:37</td>\n",
       "      <td>Okey, #GejayanMemanggil ✊</td>\n",
       "    </tr>\n",
       "    <tr>\n",
       "      <th>4</th>\n",
       "      <td>23:59:32</td>\n",
       "      <td>Prediksi Keluaran Togel Hongkong Senin 23 Sept...</td>\n",
       "    </tr>\n",
       "    <tr>\n",
       "      <th>...</th>\n",
       "      <td>...</td>\n",
       "      <td>...</td>\n",
       "    </tr>\n",
       "    <tr>\n",
       "      <th>5080</th>\n",
       "      <td>09:02:47</td>\n",
       "      <td>1998, gejayan menjadi sumbu yang menjatuhkan o...</td>\n",
       "    </tr>\n",
       "    <tr>\n",
       "      <th>5081</th>\n",
       "      <td>08:53:26</td>\n",
       "      <td>23 september akan menjadi saksi bahwa kita tid...</td>\n",
       "    </tr>\n",
       "    <tr>\n",
       "      <th>5082</th>\n",
       "      <td>07:45:37</td>\n",
       "      <td>Done #GejayanMemanggil #Giveaway</td>\n",
       "    </tr>\n",
       "    <tr>\n",
       "      <th>5083</th>\n",
       "      <td>07:37:13</td>\n",
       "      <td>Cinta itu pada kebenaran, bukan cinta kepada r...</td>\n",
       "    </tr>\n",
       "    <tr>\n",
       "      <th>5084</th>\n",
       "      <td>07:28:40</td>\n",
       "      <td>Memilih Kongsi besar untuk mengatur pribumi la...</td>\n",
       "    </tr>\n",
       "  </tbody>\n",
       "</table>\n",
       "<p>5085 rows × 2 columns</p>\n",
       "</div>"
      ],
      "text/plain": [
       "          time                                              tweet\n",
       "0     23:59:52  Berikut adalah Rilis Pers, Pernyataan Sikap, K...\n",
       "1     23:59:49  #GejayanMemanggil... Mundurjok  https://twitte...\n",
       "2     23:59:45  Sesok banget #GejayanMemanggil  pic.twitter.co...\n",
       "3     23:59:37                          Okey, #GejayanMemanggil ✊\n",
       "4     23:59:32  Prediksi Keluaran Togel Hongkong Senin 23 Sept...\n",
       "...        ...                                                ...\n",
       "5080  09:02:47  1998, gejayan menjadi sumbu yang menjatuhkan o...\n",
       "5081  08:53:26  23 september akan menjadi saksi bahwa kita tid...\n",
       "5082  07:45:37                   Done #GejayanMemanggil #Giveaway\n",
       "5083  07:37:13  Cinta itu pada kebenaran, bukan cinta kepada r...\n",
       "5084  07:28:40  Memilih Kongsi besar untuk mengatur pribumi la...\n",
       "\n",
       "[5085 rows x 2 columns]"
      ]
     },
     "execution_count": 4,
     "metadata": {},
     "output_type": "execute_result"
    }
   ],
   "source": [
    "df"
   ]
  },
  {
   "cell_type": "code",
   "execution_count": 5,
   "metadata": {},
   "outputs": [],
   "source": [
    "import re\n",
    "def remove_links(text):\n",
    "    url_pattern = re.compile(r'https:?//\\S+|www.\\S+|http:?//\\S+|pic.twitter.com/\\S+')\n",
    "    \n",
    "    cleaned_text = re.sub(url_pattern, '', text)\n",
    "    \n",
    "    return cleaned_text"
   ]
  },
  {
   "cell_type": "code",
   "execution_count": 6,
   "metadata": {},
   "outputs": [],
   "source": [
    "df['tweet'] = df['tweet'].apply(remove_links)"
   ]
  },
  {
   "cell_type": "code",
   "execution_count": 7,
   "metadata": {},
   "outputs": [],
   "source": [
    "def remove_tag_and_mention(text):\n",
    "    pattern = re.compile(r'#\\S+|@\\S+')\n",
    "    cleaned_text = re.sub(pattern, '', text)\n",
    "    return cleaned_text"
   ]
  },
  {
   "cell_type": "code",
   "execution_count": 8,
   "metadata": {},
   "outputs": [],
   "source": [
    "df['tweet'] = df['tweet'].apply(remove_tag_and_mention)"
   ]
  },
  {
   "cell_type": "code",
   "execution_count": 9,
   "metadata": {},
   "outputs": [],
   "source": [
    "def remove_symbol(text):\n",
    "    return re.sub(r'[^a-zA-Z0-9]', ' ', text)"
   ]
  },
  {
   "cell_type": "code",
   "execution_count": 10,
   "metadata": {},
   "outputs": [],
   "source": [
    "df['tweet'] = df['tweet'].apply(remove_symbol)"
   ]
  },
  {
   "cell_type": "code",
   "execution_count": 11,
   "metadata": {},
   "outputs": [],
   "source": [
    "df['tweet'] = df['tweet'].map(lambda x : x.lower() if isinstance(x, str) else x)"
   ]
  },
  {
   "cell_type": "code",
   "execution_count": 12,
   "metadata": {},
   "outputs": [
    {
     "data": {
      "application/vnd.microsoft.datawrangler.viewer.v0+json": {
       "columns": [
        {
         "name": "index",
         "rawType": "int64",
         "type": "integer"
        },
        {
         "name": "tweet",
         "rawType": "object",
         "type": "string"
        }
       ],
       "ref": "0235b4a8-ec48-4e3d-aa92-b69fd8c63c67",
       "rows": [
        [
         "0",
         "berikut adalah rilis pers  pernyataan sikap  kajian  dan naskah akademis lengkap terkait aksi gejayan memanggil  senin  23 september 2019  silakan dibaca dan dicermati       salam   aliansi rakyat bergerak   "
        ],
        [
         "1",
         " mundurjok    "
        ],
        [
         "2",
         "sesok banget   "
        ],
        [
         "3",
         "okey    "
        ],
        [
         "4",
         "prediksi keluaran togel hongkong senin 23 september 2019         "
        ],
        [
         "5",
         "boleh bangett boskuh   "
        ],
        [
         "6",
         "prediksi keluaran togel singapore senin 23 september 2019         "
        ],
        [
         "7",
         "jangan asal aksi  mahasiswa harus lebih berhati  jangan sampai lepas kendali  bisa jadi itu aksi ditunggangi kaum busuk hati waspadalah kalo kata bg napi  jgn terlalu kebawa suasana ya nanti       "
        ],
        [
         "8",
         "bangkit   tunjukan konteks dasar negara persatuan indonesia   bersatulah sehingga oranglain tidak dapat masuk untuk memecahbelahkan kita "
        ],
        [
         "9",
         "prediksi keluaran togel sydney senin 23 september 2019         "
        ],
        [
         "10",
         "tetiba muncul di timeline gegara  melu seru  "
        ],
        [
         "11",
         "maju terus teman ku   saudara ku sebangsa dan setanah air  "
        ],
        [
         "12",
         " besok yang dimalang kumpul dimana jam brpa  "
        ],
        [
         "13",
         "mantapp     "
        ],
        [
         "14",
         "sudah saatnya  "
        ],
        [
         "15",
         "gaskeunnnnn     "
        ],
        [
         "16",
         "setan merah kalah telak saat bertandang ke west ham skor 0 2 link                   "
        ],
        [
         "17",
         "dulu waktu dijogja suka ngakak sendiri kalo lewat sini      "
        ],
        [
         "18",
         "jangan cuman bokep doang yang bisa menyatukan   masa kita gak bersatu "
        ],
        [
         "19",
         ""
        ],
        [
         "20",
         "      "
        ],
        [
         "21",
         "dari iwe  untuk gejayan  oleh allyoucanart  tapi gajadi diupload        "
        ],
        [
         "22",
         "ini tips dari orang yg hanya bisa memantau dari jauh  silakan dihiraukan nek bagimu ra penting  but i do wish you all the best  folks  "
        ],
        [
         "23",
         "panjang umur perjuangan  "
        ],
        [
         "24",
         "yang besok ikut   gejayanmemanggil kalo ketemu sama mahasiswa umy namanya asta dan umam tolong salamin ya  kalo ada nemu mahasiswa ugm namanya andi tolong salamin sambil bilang  isiin shopee pay nya aud ya   oke  makasih "
        ],
        [
         "25",
         "mari kawan buat semak jl  gejayan mari lantangkan suara untuk kebenaran  agar orasi lancar jangan lupa disana ada juga lapak untuk pengelancar curhat tapi bisa digunakan agar orasi lancar juga  mampir untuk ceban pertama  selamatkan demokrasi kita   "
        ],
        [
         "26",
         " aku dadi eling kosanku "
        ],
        [
         "27",
         "sehat selalu perlawanan  "
        ],
        [
         "28",
         " ketika mahasiswa bergerak  untuk saya  saya bergerak karena   bukan semata mata karena apatis"
        ],
        [
         "29",
         "   "
        ],
        [
         "30",
         "doa ini teruntuk bagi kalian yang percaya terhadap kristus yang besok akan mengikuti aksi tetapi ada halangan yang tidak bisa ditinggal  semoga tuhan yesus memberkati kalian yang mengikuti aksi besok "
        ],
        [
         "31",
         ""
        ],
        [
         "32",
         "beragam almamater tak mengenal dari mana  tetap jadi pewaris peradaban  wahai kalian yg turun kejalan  nyala dan bakar api juangmu untuk negeri  terakhir  hanya ada satu kata  lawan  "
        ],
        [
         "33",
         "perkara turun atau tidak  semoga doa kita semua menyertai teman teman mahasiswa seluruh indonesia besok   "
        ],
        [
         "34",
         "btw man temanku  mbesok jan mabu mabu an ya  untuk mengantisipasi ada yg masuk dan membuat kerusuhan  tulung kontrol  besok kaliannmenjadi representasi yogyakarta  tulung cah uin uin kui ojo do ngawur ehe ehe ehe"
        ],
        [
         "35",
         "gejayan oh gejayan nek mangkat lewat kene  "
        ],
        [
         "36",
         "menanti twitan   dateng giliran orang tua memanggil malah males malesan "
        ],
        [
         "37",
         "   dibaca dulu sebelum turun ke jalan ya kawan "
        ],
        [
         "38",
         "merinding cuy mantengin "
        ],
        [
         "39",
         "  "
        ],
        [
         "40",
         "jual cendol dawet   "
        ],
        [
         "41",
         "  "
        ],
        [
         "42",
         "biar  nggak dikira aksi abal abal  nih baca dulu pernyataan sikap  kajian dan naskah akademis    "
        ],
        [
         "43",
         "saya yakin  akan menghilangkan label yg kebentuk dalam beberapa tahun ini karena pemilu  tak ada lagi cebong tak ada lagi kampret  semua membaur jadi satu pada satu titik temu  rakyat indonesia "
        ],
        [
         "44",
         "sudah siap klean     "
        ],
        [
         "45",
         "pada pasang hashtag  sih"
        ],
        [
         "46",
         " ini gerakan kami mahasiswa jogja  jgn kau susupi gerakan ini dengan kepentingan mu yang menjijikkan itu bangsaatt"
        ],
        [
         "47",
         " jgn kau penjarakan ucapanmu  jika kau menghamba pada ketakutan  kita hanya akan memperpanjang barisan perbudakan    wiji tukul   panjang umur perlawanan  "
        ],
        [
         "48",
         "senangnya bisa ikut  lemes rasanya gk bisa ikutan  tp lebih parah lg mahasiswa yg gk ikut     ayo   "
        ],
        [
         "49",
         "everybody  pak bu dosen  senin kami izin ga berangkat karena   rektor uny     "
        ]
       ],
       "shape": {
        "columns": 1,
        "rows": 5085
       }
      },
      "text/plain": [
       "0       berikut adalah rilis pers  pernyataan sikap  k...\n",
       "1                                           mundurjok    \n",
       "2                                         sesok banget   \n",
       "3                                                okey    \n",
       "4       prediksi keluaran togel hongkong senin 23 sept...\n",
       "                              ...                        \n",
       "5080    1998  gejayan menjadi sumbu yang menjatuhkan o...\n",
       "5081    23 september akan menjadi saksi bahwa kita tid...\n",
       "5082                                               done  \n",
       "5083    cinta itu pada kebenaran  bukan cinta kepada r...\n",
       "5084    memilih kongsi besar untuk mengatur pribumi la...\n",
       "Name: tweet, Length: 5085, dtype: object"
      ]
     },
     "execution_count": 12,
     "metadata": {},
     "output_type": "execute_result"
    }
   ],
   "source": [
    "df['tweet']"
   ]
  },
  {
   "cell_type": "code",
   "execution_count": 13,
   "metadata": {},
   "outputs": [],
   "source": [
    "slangwords= {\"@\":\"di\", \"abis\" : \"habis\", \"wtb\": \"beli\", \"masi\":\"masih\", \"wts\":\"jual\", \"wtt\": \"tukar\", \"bgt\":\"banget\", \"maks\":\"maksimal\", 'yg':'yang'}"
   ]
  },
  {
   "cell_type": "code",
   "execution_count": 14,
   "metadata": {},
   "outputs": [],
   "source": [
    "def slang_words_fix(text):\n",
    "    words = text.split()\n",
    "    fixedwords = []\n",
    "\n",
    "    for word in words:\n",
    "        if word.lower() in slangwords:\n",
    "            fixedwords.append(slangwords[word.lower()])\n",
    "        else:\n",
    "            fixedwords.append(word)\n",
    "\n",
    "    fixed_text = ' '.join(fixedwords)\n",
    "\n",
    "    return fixed_text "
   ]
  },
  {
   "cell_type": "code",
   "execution_count": 15,
   "metadata": {},
   "outputs": [],
   "source": [
    "df['tweet'] = df['tweet'].apply(slang_words_fix)"
   ]
  },
  {
   "cell_type": "code",
   "execution_count": 16,
   "metadata": {},
   "outputs": [
    {
     "data": {
      "application/vnd.microsoft.datawrangler.viewer.v0+json": {
       "columns": [
        {
         "name": "index",
         "rawType": "int64",
         "type": "integer"
        },
        {
         "name": "tweet",
         "rawType": "object",
         "type": "string"
        }
       ],
       "ref": "2d20b32b-045c-473e-8e25-de426fcd8643",
       "rows": [
        [
         "0",
         "berikut adalah rilis pers pernyataan sikap kajian dan naskah akademis lengkap terkait aksi gejayan memanggil senin 23 september 2019 silakan dibaca dan dicermati salam aliansi rakyat bergerak"
        ],
        [
         "1",
         "mundurjok"
        ],
        [
         "2",
         "sesok banget"
        ],
        [
         "3",
         "okey"
        ],
        [
         "4",
         "prediksi keluaran togel hongkong senin 23 september 2019"
        ],
        [
         "5",
         "boleh bangett boskuh"
        ],
        [
         "6",
         "prediksi keluaran togel singapore senin 23 september 2019"
        ],
        [
         "7",
         "jangan asal aksi mahasiswa harus lebih berhati jangan sampai lepas kendali bisa jadi itu aksi ditunggangi kaum busuk hati waspadalah kalo kata bg napi jgn terlalu kebawa suasana ya nanti"
        ],
        [
         "8",
         "bangkit tunjukan konteks dasar negara persatuan indonesia bersatulah sehingga oranglain tidak dapat masuk untuk memecahbelahkan kita"
        ],
        [
         "9",
         "prediksi keluaran togel sydney senin 23 september 2019"
        ],
        [
         "10",
         "tetiba muncul di timeline gegara melu seru"
        ],
        [
         "11",
         "maju terus teman ku saudara ku sebangsa dan setanah air"
        ],
        [
         "12",
         "besok yang dimalang kumpul dimana jam brpa"
        ],
        [
         "13",
         "mantapp"
        ],
        [
         "14",
         "sudah saatnya"
        ],
        [
         "15",
         "gaskeunnnnn"
        ],
        [
         "16",
         "setan merah kalah telak saat bertandang ke west ham skor 0 2 link"
        ],
        [
         "17",
         "dulu waktu dijogja suka ngakak sendiri kalo lewat sini"
        ],
        [
         "18",
         "jangan cuman bokep doang yang bisa menyatukan masa kita gak bersatu"
        ],
        [
         "19",
         ""
        ],
        [
         "20",
         ""
        ],
        [
         "21",
         "dari iwe untuk gejayan oleh allyoucanart tapi gajadi diupload"
        ],
        [
         "22",
         "ini tips dari orang yang hanya bisa memantau dari jauh silakan dihiraukan nek bagimu ra penting but i do wish you all the best folks"
        ],
        [
         "23",
         "panjang umur perjuangan"
        ],
        [
         "24",
         "yang besok ikut gejayanmemanggil kalo ketemu sama mahasiswa umy namanya asta dan umam tolong salamin ya kalo ada nemu mahasiswa ugm namanya andi tolong salamin sambil bilang isiin shopee pay nya aud ya oke makasih"
        ],
        [
         "25",
         "mari kawan buat semak jl gejayan mari lantangkan suara untuk kebenaran agar orasi lancar jangan lupa disana ada juga lapak untuk pengelancar curhat tapi bisa digunakan agar orasi lancar juga mampir untuk ceban pertama selamatkan demokrasi kita"
        ],
        [
         "26",
         "aku dadi eling kosanku"
        ],
        [
         "27",
         "sehat selalu perlawanan"
        ],
        [
         "28",
         "ketika mahasiswa bergerak untuk saya saya bergerak karena bukan semata mata karena apatis"
        ],
        [
         "29",
         ""
        ],
        [
         "30",
         "doa ini teruntuk bagi kalian yang percaya terhadap kristus yang besok akan mengikuti aksi tetapi ada halangan yang tidak bisa ditinggal semoga tuhan yesus memberkati kalian yang mengikuti aksi besok"
        ],
        [
         "31",
         ""
        ],
        [
         "32",
         "beragam almamater tak mengenal dari mana tetap jadi pewaris peradaban wahai kalian yang turun kejalan nyala dan bakar api juangmu untuk negeri terakhir hanya ada satu kata lawan"
        ],
        [
         "33",
         "perkara turun atau tidak semoga doa kita semua menyertai teman teman mahasiswa seluruh indonesia besok"
        ],
        [
         "34",
         "btw man temanku mbesok jan mabu mabu an ya untuk mengantisipasi ada yang masuk dan membuat kerusuhan tulung kontrol besok kaliannmenjadi representasi yogyakarta tulung cah uin uin kui ojo do ngawur ehe ehe ehe"
        ],
        [
         "35",
         "gejayan oh gejayan nek mangkat lewat kene"
        ],
        [
         "36",
         "menanti twitan dateng giliran orang tua memanggil malah males malesan"
        ],
        [
         "37",
         "dibaca dulu sebelum turun ke jalan ya kawan"
        ],
        [
         "38",
         "merinding cuy mantengin"
        ],
        [
         "39",
         ""
        ],
        [
         "40",
         "jual cendol dawet"
        ],
        [
         "41",
         ""
        ],
        [
         "42",
         "biar nggak dikira aksi abal abal nih baca dulu pernyataan sikap kajian dan naskah akademis"
        ],
        [
         "43",
         "saya yakin akan menghilangkan label yang kebentuk dalam beberapa tahun ini karena pemilu tak ada lagi cebong tak ada lagi kampret semua membaur jadi satu pada satu titik temu rakyat indonesia"
        ],
        [
         "44",
         "sudah siap klean"
        ],
        [
         "45",
         "pada pasang hashtag sih"
        ],
        [
         "46",
         "ini gerakan kami mahasiswa jogja jgn kau susupi gerakan ini dengan kepentingan mu yang menjijikkan itu bangsaatt"
        ],
        [
         "47",
         "jgn kau penjarakan ucapanmu jika kau menghamba pada ketakutan kita hanya akan memperpanjang barisan perbudakan wiji tukul panjang umur perlawanan"
        ],
        [
         "48",
         "senangnya bisa ikut lemes rasanya gk bisa ikutan tp lebih parah lg mahasiswa yang gk ikut ayo"
        ],
        [
         "49",
         "everybody pak bu dosen senin kami izin ga berangkat karena rektor uny"
        ]
       ],
       "shape": {
        "columns": 1,
        "rows": 5085
       }
      },
      "text/plain": [
       "0       berikut adalah rilis pers pernyataan sikap kaj...\n",
       "1                                               mundurjok\n",
       "2                                            sesok banget\n",
       "3                                                    okey\n",
       "4       prediksi keluaran togel hongkong senin 23 sept...\n",
       "                              ...                        \n",
       "5080    1998 gejayan menjadi sumbu yang menjatuhkan or...\n",
       "5081    23 september akan menjadi saksi bahwa kita tid...\n",
       "5082                                                 done\n",
       "5083    cinta itu pada kebenaran bukan cinta kepada re...\n",
       "5084    memilih kongsi besar untuk mengatur pribumi la...\n",
       "Name: tweet, Length: 5085, dtype: object"
      ]
     },
     "execution_count": 16,
     "metadata": {},
     "output_type": "execute_result"
    }
   ],
   "source": [
    "df['tweet']"
   ]
  },
  {
   "cell_type": "code",
   "execution_count": 17,
   "metadata": {},
   "outputs": [],
   "source": [
    "#filter kata yang kira kira tidak melenceng\n",
    "kata_topik = ['gejayan', 'rezim', 'oligarki', 'suara', 'benar', 'orba', 'mahasiswa', 'yogyakarta', 'atur', 'orasi', 'gerakan', 'jogja', 'politik', 'rakyat', 'pemerintah', 'demo','rakyat', 'indonesia']"
   ]
  },
  {
   "cell_type": "code",
   "execution_count": 18,
   "metadata": {},
   "outputs": [],
   "source": [
    "rows = []\n",
    "\n",
    "for i, row in df.iterrows():\n",
    "    tweet = row['tweet']\n",
    "    for k in kata_topik:\n",
    "        if k in tweet:\n",
    "            rows.append(row)\n",
    "            break"
   ]
  },
  {
   "cell_type": "code",
   "execution_count": 19,
   "metadata": {},
   "outputs": [],
   "source": [
    "df_filtered = pd.DataFrame(rows)"
   ]
  },
  {
   "cell_type": "code",
   "execution_count": 20,
   "metadata": {},
   "outputs": [
    {
     "name": "stdout",
     "output_type": "stream",
     "text": [
      "<class 'pandas.core.frame.DataFrame'>\n",
      "Index: 1404 entries, 0 to 5084\n",
      "Data columns (total 2 columns):\n",
      " #   Column  Non-Null Count  Dtype \n",
      "---  ------  --------------  ----- \n",
      " 0   time    1404 non-null   object\n",
      " 1   tweet   1404 non-null   object\n",
      "dtypes: object(2)\n",
      "memory usage: 32.9+ KB\n"
     ]
    }
   ],
   "source": [
    "df_filtered.info()"
   ]
  },
  {
   "cell_type": "code",
   "execution_count": 21,
   "metadata": {},
   "outputs": [],
   "source": [
    "from Sastrawi.StopWordRemover.StopWordRemoverFactory import StopWordRemoverFactory\n",
    "from Sastrawi.Stemmer.StemmerFactory import StemmerFactory\n",
    "\n",
    "stopword_factory = StopWordRemoverFactory()\n",
    "stemmer_factory = StemmerFactory()\n",
    "\n",
    "stopword = stopword_factory.create_stop_word_remover()\n",
    "stemmer = stemmer_factory.create_stemmer()\n",
    "\n",
    "df_filtered['tweet'] = [stopword.remove(''.join(tweet)) for tweet in df_filtered['tweet']]\n",
    "df_filtered['tweet'] = [stemmer.stem(tweet) for tweet in df_filtered['tweet']]"
   ]
  },
  {
   "cell_type": "code",
   "execution_count": 22,
   "metadata": {},
   "outputs": [],
   "source": [
    "df_filtered['time'] = pd.to_datetime(df_filtered['time'], format='%H:%M:%S')\n",
    "\n",
    "df_filtered['time'] = df_filtered['time'].dt.time\n"
   ]
  },
  {
   "cell_type": "code",
   "execution_count": 23,
   "metadata": {},
   "outputs": [],
   "source": [
    "from datetime import time\n",
    "\n",
    "first_limit = time(6, 0, 0)\n",
    "second_limit = time(12, 0, 0)\n",
    "third_limit = time(18, 0, 0)\n",
    "fourth_limit = time(23, 59, 59)\n",
    "\n",
    "quarter_day_1 = df_filtered[(df_filtered['time'] >= time(0, 0, 0)) & (df_filtered['time'] <= first_limit)].copy()\n",
    "quarter_day_2 = df_filtered[(df_filtered['time'] > first_limit) & (df_filtered['time'] <= second_limit)].copy()\n",
    "quarter_day_3 = df_filtered[(df_filtered['time'] > second_limit) & (df_filtered['time'] <= third_limit)].copy()\n",
    "quarter_day_4 = df_filtered[(df_filtered['time'] > third_limit) & (df_filtered['time'] <= fourth_limit)].copy()"
   ]
  },
  {
   "cell_type": "code",
   "execution_count": 24,
   "metadata": {},
   "outputs": [],
   "source": [
    "# Analisis topik untuk kuartal kedua 22 September 2019\n",
    "from sklearn.feature_extraction.text import TfidfVectorizer\n",
    "\n",
    "vectorizer = TfidfVectorizer()\n",
    "second_quarter_day = quarter_day_2['tweet'].tolist()\n"
   ]
  },
  {
   "cell_type": "code",
   "execution_count": 25,
   "metadata": {},
   "outputs": [],
   "source": [
    "second_quarter_day_vect = vectorizer.fit_transform(second_quarter_day)\n",
    "feature_names = vectorizer.get_feature_names_out()"
   ]
  },
  {
   "cell_type": "code",
   "execution_count": 26,
   "metadata": {},
   "outputs": [
    {
     "data": {
      "text/html": [
       "<style>#sk-container-id-1 {\n",
       "  /* Definition of color scheme common for light and dark mode */\n",
       "  --sklearn-color-text: black;\n",
       "  --sklearn-color-line: gray;\n",
       "  /* Definition of color scheme for unfitted estimators */\n",
       "  --sklearn-color-unfitted-level-0: #fff5e6;\n",
       "  --sklearn-color-unfitted-level-1: #f6e4d2;\n",
       "  --sklearn-color-unfitted-level-2: #ffe0b3;\n",
       "  --sklearn-color-unfitted-level-3: chocolate;\n",
       "  /* Definition of color scheme for fitted estimators */\n",
       "  --sklearn-color-fitted-level-0: #f0f8ff;\n",
       "  --sklearn-color-fitted-level-1: #d4ebff;\n",
       "  --sklearn-color-fitted-level-2: #b3dbfd;\n",
       "  --sklearn-color-fitted-level-3: cornflowerblue;\n",
       "\n",
       "  /* Specific color for light theme */\n",
       "  --sklearn-color-text-on-default-background: var(--sg-text-color, var(--theme-code-foreground, var(--jp-content-font-color1, black)));\n",
       "  --sklearn-color-background: var(--sg-background-color, var(--theme-background, var(--jp-layout-color0, white)));\n",
       "  --sklearn-color-border-box: var(--sg-text-color, var(--theme-code-foreground, var(--jp-content-font-color1, black)));\n",
       "  --sklearn-color-icon: #696969;\n",
       "\n",
       "  @media (prefers-color-scheme: dark) {\n",
       "    /* Redefinition of color scheme for dark theme */\n",
       "    --sklearn-color-text-on-default-background: var(--sg-text-color, var(--theme-code-foreground, var(--jp-content-font-color1, white)));\n",
       "    --sklearn-color-background: var(--sg-background-color, var(--theme-background, var(--jp-layout-color0, #111)));\n",
       "    --sklearn-color-border-box: var(--sg-text-color, var(--theme-code-foreground, var(--jp-content-font-color1, white)));\n",
       "    --sklearn-color-icon: #878787;\n",
       "  }\n",
       "}\n",
       "\n",
       "#sk-container-id-1 {\n",
       "  color: var(--sklearn-color-text);\n",
       "}\n",
       "\n",
       "#sk-container-id-1 pre {\n",
       "  padding: 0;\n",
       "}\n",
       "\n",
       "#sk-container-id-1 input.sk-hidden--visually {\n",
       "  border: 0;\n",
       "  clip: rect(1px 1px 1px 1px);\n",
       "  clip: rect(1px, 1px, 1px, 1px);\n",
       "  height: 1px;\n",
       "  margin: -1px;\n",
       "  overflow: hidden;\n",
       "  padding: 0;\n",
       "  position: absolute;\n",
       "  width: 1px;\n",
       "}\n",
       "\n",
       "#sk-container-id-1 div.sk-dashed-wrapped {\n",
       "  border: 1px dashed var(--sklearn-color-line);\n",
       "  margin: 0 0.4em 0.5em 0.4em;\n",
       "  box-sizing: border-box;\n",
       "  padding-bottom: 0.4em;\n",
       "  background-color: var(--sklearn-color-background);\n",
       "}\n",
       "\n",
       "#sk-container-id-1 div.sk-container {\n",
       "  /* jupyter's `normalize.less` sets `[hidden] { display: none; }`\n",
       "     but bootstrap.min.css set `[hidden] { display: none !important; }`\n",
       "     so we also need the `!important` here to be able to override the\n",
       "     default hidden behavior on the sphinx rendered scikit-learn.org.\n",
       "     See: https://github.com/scikit-learn/scikit-learn/issues/21755 */\n",
       "  display: inline-block !important;\n",
       "  position: relative;\n",
       "}\n",
       "\n",
       "#sk-container-id-1 div.sk-text-repr-fallback {\n",
       "  display: none;\n",
       "}\n",
       "\n",
       "div.sk-parallel-item,\n",
       "div.sk-serial,\n",
       "div.sk-item {\n",
       "  /* draw centered vertical line to link estimators */\n",
       "  background-image: linear-gradient(var(--sklearn-color-text-on-default-background), var(--sklearn-color-text-on-default-background));\n",
       "  background-size: 2px 100%;\n",
       "  background-repeat: no-repeat;\n",
       "  background-position: center center;\n",
       "}\n",
       "\n",
       "/* Parallel-specific style estimator block */\n",
       "\n",
       "#sk-container-id-1 div.sk-parallel-item::after {\n",
       "  content: \"\";\n",
       "  width: 100%;\n",
       "  border-bottom: 2px solid var(--sklearn-color-text-on-default-background);\n",
       "  flex-grow: 1;\n",
       "}\n",
       "\n",
       "#sk-container-id-1 div.sk-parallel {\n",
       "  display: flex;\n",
       "  align-items: stretch;\n",
       "  justify-content: center;\n",
       "  background-color: var(--sklearn-color-background);\n",
       "  position: relative;\n",
       "}\n",
       "\n",
       "#sk-container-id-1 div.sk-parallel-item {\n",
       "  display: flex;\n",
       "  flex-direction: column;\n",
       "}\n",
       "\n",
       "#sk-container-id-1 div.sk-parallel-item:first-child::after {\n",
       "  align-self: flex-end;\n",
       "  width: 50%;\n",
       "}\n",
       "\n",
       "#sk-container-id-1 div.sk-parallel-item:last-child::after {\n",
       "  align-self: flex-start;\n",
       "  width: 50%;\n",
       "}\n",
       "\n",
       "#sk-container-id-1 div.sk-parallel-item:only-child::after {\n",
       "  width: 0;\n",
       "}\n",
       "\n",
       "/* Serial-specific style estimator block */\n",
       "\n",
       "#sk-container-id-1 div.sk-serial {\n",
       "  display: flex;\n",
       "  flex-direction: column;\n",
       "  align-items: center;\n",
       "  background-color: var(--sklearn-color-background);\n",
       "  padding-right: 1em;\n",
       "  padding-left: 1em;\n",
       "}\n",
       "\n",
       "\n",
       "/* Toggleable style: style used for estimator/Pipeline/ColumnTransformer box that is\n",
       "clickable and can be expanded/collapsed.\n",
       "- Pipeline and ColumnTransformer use this feature and define the default style\n",
       "- Estimators will overwrite some part of the style using the `sk-estimator` class\n",
       "*/\n",
       "\n",
       "/* Pipeline and ColumnTransformer style (default) */\n",
       "\n",
       "#sk-container-id-1 div.sk-toggleable {\n",
       "  /* Default theme specific background. It is overwritten whether we have a\n",
       "  specific estimator or a Pipeline/ColumnTransformer */\n",
       "  background-color: var(--sklearn-color-background);\n",
       "}\n",
       "\n",
       "/* Toggleable label */\n",
       "#sk-container-id-1 label.sk-toggleable__label {\n",
       "  cursor: pointer;\n",
       "  display: block;\n",
       "  width: 100%;\n",
       "  margin-bottom: 0;\n",
       "  padding: 0.5em;\n",
       "  box-sizing: border-box;\n",
       "  text-align: center;\n",
       "}\n",
       "\n",
       "#sk-container-id-1 label.sk-toggleable__label-arrow:before {\n",
       "  /* Arrow on the left of the label */\n",
       "  content: \"▸\";\n",
       "  float: left;\n",
       "  margin-right: 0.25em;\n",
       "  color: var(--sklearn-color-icon);\n",
       "}\n",
       "\n",
       "#sk-container-id-1 label.sk-toggleable__label-arrow:hover:before {\n",
       "  color: var(--sklearn-color-text);\n",
       "}\n",
       "\n",
       "/* Toggleable content - dropdown */\n",
       "\n",
       "#sk-container-id-1 div.sk-toggleable__content {\n",
       "  max-height: 0;\n",
       "  max-width: 0;\n",
       "  overflow: hidden;\n",
       "  text-align: left;\n",
       "  /* unfitted */\n",
       "  background-color: var(--sklearn-color-unfitted-level-0);\n",
       "}\n",
       "\n",
       "#sk-container-id-1 div.sk-toggleable__content.fitted {\n",
       "  /* fitted */\n",
       "  background-color: var(--sklearn-color-fitted-level-0);\n",
       "}\n",
       "\n",
       "#sk-container-id-1 div.sk-toggleable__content pre {\n",
       "  margin: 0.2em;\n",
       "  border-radius: 0.25em;\n",
       "  color: var(--sklearn-color-text);\n",
       "  /* unfitted */\n",
       "  background-color: var(--sklearn-color-unfitted-level-0);\n",
       "}\n",
       "\n",
       "#sk-container-id-1 div.sk-toggleable__content.fitted pre {\n",
       "  /* unfitted */\n",
       "  background-color: var(--sklearn-color-fitted-level-0);\n",
       "}\n",
       "\n",
       "#sk-container-id-1 input.sk-toggleable__control:checked~div.sk-toggleable__content {\n",
       "  /* Expand drop-down */\n",
       "  max-height: 200px;\n",
       "  max-width: 100%;\n",
       "  overflow: auto;\n",
       "}\n",
       "\n",
       "#sk-container-id-1 input.sk-toggleable__control:checked~label.sk-toggleable__label-arrow:before {\n",
       "  content: \"▾\";\n",
       "}\n",
       "\n",
       "/* Pipeline/ColumnTransformer-specific style */\n",
       "\n",
       "#sk-container-id-1 div.sk-label input.sk-toggleable__control:checked~label.sk-toggleable__label {\n",
       "  color: var(--sklearn-color-text);\n",
       "  background-color: var(--sklearn-color-unfitted-level-2);\n",
       "}\n",
       "\n",
       "#sk-container-id-1 div.sk-label.fitted input.sk-toggleable__control:checked~label.sk-toggleable__label {\n",
       "  background-color: var(--sklearn-color-fitted-level-2);\n",
       "}\n",
       "\n",
       "/* Estimator-specific style */\n",
       "\n",
       "/* Colorize estimator box */\n",
       "#sk-container-id-1 div.sk-estimator input.sk-toggleable__control:checked~label.sk-toggleable__label {\n",
       "  /* unfitted */\n",
       "  background-color: var(--sklearn-color-unfitted-level-2);\n",
       "}\n",
       "\n",
       "#sk-container-id-1 div.sk-estimator.fitted input.sk-toggleable__control:checked~label.sk-toggleable__label {\n",
       "  /* fitted */\n",
       "  background-color: var(--sklearn-color-fitted-level-2);\n",
       "}\n",
       "\n",
       "#sk-container-id-1 div.sk-label label.sk-toggleable__label,\n",
       "#sk-container-id-1 div.sk-label label {\n",
       "  /* The background is the default theme color */\n",
       "  color: var(--sklearn-color-text-on-default-background);\n",
       "}\n",
       "\n",
       "/* On hover, darken the color of the background */\n",
       "#sk-container-id-1 div.sk-label:hover label.sk-toggleable__label {\n",
       "  color: var(--sklearn-color-text);\n",
       "  background-color: var(--sklearn-color-unfitted-level-2);\n",
       "}\n",
       "\n",
       "/* Label box, darken color on hover, fitted */\n",
       "#sk-container-id-1 div.sk-label.fitted:hover label.sk-toggleable__label.fitted {\n",
       "  color: var(--sklearn-color-text);\n",
       "  background-color: var(--sklearn-color-fitted-level-2);\n",
       "}\n",
       "\n",
       "/* Estimator label */\n",
       "\n",
       "#sk-container-id-1 div.sk-label label {\n",
       "  font-family: monospace;\n",
       "  font-weight: bold;\n",
       "  display: inline-block;\n",
       "  line-height: 1.2em;\n",
       "}\n",
       "\n",
       "#sk-container-id-1 div.sk-label-container {\n",
       "  text-align: center;\n",
       "}\n",
       "\n",
       "/* Estimator-specific */\n",
       "#sk-container-id-1 div.sk-estimator {\n",
       "  font-family: monospace;\n",
       "  border: 1px dotted var(--sklearn-color-border-box);\n",
       "  border-radius: 0.25em;\n",
       "  box-sizing: border-box;\n",
       "  margin-bottom: 0.5em;\n",
       "  /* unfitted */\n",
       "  background-color: var(--sklearn-color-unfitted-level-0);\n",
       "}\n",
       "\n",
       "#sk-container-id-1 div.sk-estimator.fitted {\n",
       "  /* fitted */\n",
       "  background-color: var(--sklearn-color-fitted-level-0);\n",
       "}\n",
       "\n",
       "/* on hover */\n",
       "#sk-container-id-1 div.sk-estimator:hover {\n",
       "  /* unfitted */\n",
       "  background-color: var(--sklearn-color-unfitted-level-2);\n",
       "}\n",
       "\n",
       "#sk-container-id-1 div.sk-estimator.fitted:hover {\n",
       "  /* fitted */\n",
       "  background-color: var(--sklearn-color-fitted-level-2);\n",
       "}\n",
       "\n",
       "/* Specification for estimator info (e.g. \"i\" and \"?\") */\n",
       "\n",
       "/* Common style for \"i\" and \"?\" */\n",
       "\n",
       ".sk-estimator-doc-link,\n",
       "a:link.sk-estimator-doc-link,\n",
       "a:visited.sk-estimator-doc-link {\n",
       "  float: right;\n",
       "  font-size: smaller;\n",
       "  line-height: 1em;\n",
       "  font-family: monospace;\n",
       "  background-color: var(--sklearn-color-background);\n",
       "  border-radius: 1em;\n",
       "  height: 1em;\n",
       "  width: 1em;\n",
       "  text-decoration: none !important;\n",
       "  margin-left: 1ex;\n",
       "  /* unfitted */\n",
       "  border: var(--sklearn-color-unfitted-level-1) 1pt solid;\n",
       "  color: var(--sklearn-color-unfitted-level-1);\n",
       "}\n",
       "\n",
       ".sk-estimator-doc-link.fitted,\n",
       "a:link.sk-estimator-doc-link.fitted,\n",
       "a:visited.sk-estimator-doc-link.fitted {\n",
       "  /* fitted */\n",
       "  border: var(--sklearn-color-fitted-level-1) 1pt solid;\n",
       "  color: var(--sklearn-color-fitted-level-1);\n",
       "}\n",
       "\n",
       "/* On hover */\n",
       "div.sk-estimator:hover .sk-estimator-doc-link:hover,\n",
       ".sk-estimator-doc-link:hover,\n",
       "div.sk-label-container:hover .sk-estimator-doc-link:hover,\n",
       ".sk-estimator-doc-link:hover {\n",
       "  /* unfitted */\n",
       "  background-color: var(--sklearn-color-unfitted-level-3);\n",
       "  color: var(--sklearn-color-background);\n",
       "  text-decoration: none;\n",
       "}\n",
       "\n",
       "div.sk-estimator.fitted:hover .sk-estimator-doc-link.fitted:hover,\n",
       ".sk-estimator-doc-link.fitted:hover,\n",
       "div.sk-label-container:hover .sk-estimator-doc-link.fitted:hover,\n",
       ".sk-estimator-doc-link.fitted:hover {\n",
       "  /* fitted */\n",
       "  background-color: var(--sklearn-color-fitted-level-3);\n",
       "  color: var(--sklearn-color-background);\n",
       "  text-decoration: none;\n",
       "}\n",
       "\n",
       "/* Span, style for the box shown on hovering the info icon */\n",
       ".sk-estimator-doc-link span {\n",
       "  display: none;\n",
       "  z-index: 9999;\n",
       "  position: relative;\n",
       "  font-weight: normal;\n",
       "  right: .2ex;\n",
       "  padding: .5ex;\n",
       "  margin: .5ex;\n",
       "  width: min-content;\n",
       "  min-width: 20ex;\n",
       "  max-width: 50ex;\n",
       "  color: var(--sklearn-color-text);\n",
       "  box-shadow: 2pt 2pt 4pt #999;\n",
       "  /* unfitted */\n",
       "  background: var(--sklearn-color-unfitted-level-0);\n",
       "  border: .5pt solid var(--sklearn-color-unfitted-level-3);\n",
       "}\n",
       "\n",
       ".sk-estimator-doc-link.fitted span {\n",
       "  /* fitted */\n",
       "  background: var(--sklearn-color-fitted-level-0);\n",
       "  border: var(--sklearn-color-fitted-level-3);\n",
       "}\n",
       "\n",
       ".sk-estimator-doc-link:hover span {\n",
       "  display: block;\n",
       "}\n",
       "\n",
       "/* \"?\"-specific style due to the `<a>` HTML tag */\n",
       "\n",
       "#sk-container-id-1 a.estimator_doc_link {\n",
       "  float: right;\n",
       "  font-size: 1rem;\n",
       "  line-height: 1em;\n",
       "  font-family: monospace;\n",
       "  background-color: var(--sklearn-color-background);\n",
       "  border-radius: 1rem;\n",
       "  height: 1rem;\n",
       "  width: 1rem;\n",
       "  text-decoration: none;\n",
       "  /* unfitted */\n",
       "  color: var(--sklearn-color-unfitted-level-1);\n",
       "  border: var(--sklearn-color-unfitted-level-1) 1pt solid;\n",
       "}\n",
       "\n",
       "#sk-container-id-1 a.estimator_doc_link.fitted {\n",
       "  /* fitted */\n",
       "  border: var(--sklearn-color-fitted-level-1) 1pt solid;\n",
       "  color: var(--sklearn-color-fitted-level-1);\n",
       "}\n",
       "\n",
       "/* On hover */\n",
       "#sk-container-id-1 a.estimator_doc_link:hover {\n",
       "  /* unfitted */\n",
       "  background-color: var(--sklearn-color-unfitted-level-3);\n",
       "  color: var(--sklearn-color-background);\n",
       "  text-decoration: none;\n",
       "}\n",
       "\n",
       "#sk-container-id-1 a.estimator_doc_link.fitted:hover {\n",
       "  /* fitted */\n",
       "  background-color: var(--sklearn-color-fitted-level-3);\n",
       "}\n",
       "</style><div id=\"sk-container-id-1\" class=\"sk-top-container\"><div class=\"sk-text-repr-fallback\"><pre>LatentDirichletAllocation(evaluate_every=3, max_iter=20, n_components=5,\n",
       "                          n_jobs=-1, random_state=42)</pre><b>In a Jupyter environment, please rerun this cell to show the HTML representation or trust the notebook. <br />On GitHub, the HTML representation is unable to render, please try loading this page with nbviewer.org.</b></div><div class=\"sk-container\" hidden><div class=\"sk-item\"><div class=\"sk-estimator fitted sk-toggleable\"><input class=\"sk-toggleable__control sk-hidden--visually\" id=\"sk-estimator-id-1\" type=\"checkbox\" checked><label for=\"sk-estimator-id-1\" class=\"sk-toggleable__label fitted sk-toggleable__label-arrow fitted\">&nbsp;&nbsp;LatentDirichletAllocation<a class=\"sk-estimator-doc-link fitted\" rel=\"noreferrer\" target=\"_blank\" href=\"https://scikit-learn.org/1.4/modules/generated/sklearn.decomposition.LatentDirichletAllocation.html\">?<span>Documentation for LatentDirichletAllocation</span></a><span class=\"sk-estimator-doc-link fitted\">i<span>Fitted</span></span></label><div class=\"sk-toggleable__content fitted\"><pre>LatentDirichletAllocation(evaluate_every=3, max_iter=20, n_components=5,\n",
       "                          n_jobs=-1, random_state=42)</pre></div> </div></div></div></div>"
      ],
      "text/plain": [
       "LatentDirichletAllocation(evaluate_every=3, max_iter=20, n_components=5,\n",
       "                          n_jobs=-1, random_state=42)"
      ]
     },
     "execution_count": 26,
     "metadata": {},
     "output_type": "execute_result"
    }
   ],
   "source": [
    "from sklearn.decomposition import LatentDirichletAllocation\n",
    "\n",
    "lda_2 = LatentDirichletAllocation(n_components=5, random_state=42, learning_method='batch',max_iter=20, evaluate_every=3,  n_jobs=-1)\n",
    "\n",
    "lda_2.fit(second_quarter_day_vect)"
   ]
  },
  {
   "cell_type": "code",
   "execution_count": 27,
   "metadata": {},
   "outputs": [],
   "source": [
    "def display_topics(model, feature_names, no_top_words):\n",
    "    for topic_idx, topic in enumerate(model.components_):\n",
    "        print(f\"Topik #{topic_idx + 1}:\")\n",
    "        print(\" \".join([feature_names[i]\n",
    "                        for i in topic.argsort()[:-no_top_words - 1:-1]]))\n",
    "    print(\"\\n\")"
   ]
  },
  {
   "cell_type": "code",
   "execution_count": 28,
   "metadata": {},
   "outputs": [
    {
     "name": "stdout",
     "output_type": "stream",
     "text": [
      "Topik yang Ditemukan (5 Topik):\n",
      "Topik #1:\n",
      "yogyakarta 19 23 besok dpr\n",
      "Topik #2:\n",
      "milik olah aku reformasi umur\n",
      "Topik #3:\n",
      "percaya gejayan suara orba sumbu\n",
      "Topik #4:\n",
      "kelas 23 turun jalan ketemu\n",
      "Topik #5:\n",
      "cinta rezim jiwa tahun pada\n",
      "\n",
      "\n"
     ]
    }
   ],
   "source": [
    "print(f\"Topik yang Ditemukan ({5} Topik):\")\n",
    "display_topics(lda_2, feature_names, 5)"
   ]
  },
  {
   "cell_type": "code",
   "execution_count": 51,
   "metadata": {},
   "outputs": [
    {
     "data": {
      "image/png": "[encoded data removed]",
      "text/plain": [
       "<Figure size 640x480 with 1 Axes>"
      ]
     },
     "metadata": {},
     "output_type": "display_data"
    }
   ],
   "source": [
    "import seaborn as sns\n",
    "import matplotlib.pyplot as plt\n",
    "\n",
    "import warnings\n",
    "warnings.filterwarnings(\"ignore\", category=DeprecationWarning)\n",
    "\n",
    "topic_dist = lda_2.transform(second_quarter_day_vect)\n",
    "\n",
    "sns.barplot(x=list(range(topic_dist.shape[1])), y=topic_dist[0])\n",
    "plt.title(\"Distribusi Topik untuk Kuartal Kedua\")\n",
    "plt.xlabel(\"Topik\")\n",
    "plt.ylabel(\"Probabilitas\")\n",
    "plt.show()"
   ]
  },
  {
   "cell_type": "code",
   "execution_count": 29,
   "metadata": {},
   "outputs": [],
   "source": [
    "# Analisis topik untuk kuartal ketiga 22 September 2019\n",
    "vectorizer3 = TfidfVectorizer()\n",
    "\n",
    "third_quarter_day = quarter_day_3['tweet'].tolist()"
   ]
  },
  {
   "cell_type": "code",
   "execution_count": 30,
   "metadata": {},
   "outputs": [],
   "source": [
    "third_quarter_day_vect = vectorizer3.fit_transform(third_quarter_day)\n",
    "feature_names3 = vectorizer3.get_feature_names_out()"
   ]
  },
  {
   "cell_type": "code",
   "execution_count": 31,
   "metadata": {},
   "outputs": [
    {
     "data": {
      "text/html": [
       "<style>#sk-container-id-2 {\n",
       "  /* Definition of color scheme common for light and dark mode */\n",
       "  --sklearn-color-text: black;\n",
       "  --sklearn-color-line: gray;\n",
       "  /* Definition of color scheme for unfitted estimators */\n",
       "  --sklearn-color-unfitted-level-0: #fff5e6;\n",
       "  --sklearn-color-unfitted-level-1: #f6e4d2;\n",
       "  --sklearn-color-unfitted-level-2: #ffe0b3;\n",
       "  --sklearn-color-unfitted-level-3: chocolate;\n",
       "  /* Definition of color scheme for fitted estimators */\n",
       "  --sklearn-color-fitted-level-0: #f0f8ff;\n",
       "  --sklearn-color-fitted-level-1: #d4ebff;\n",
       "  --sklearn-color-fitted-level-2: #b3dbfd;\n",
       "  --sklearn-color-fitted-level-3: cornflowerblue;\n",
       "\n",
       "  /* Specific color for light theme */\n",
       "  --sklearn-color-text-on-default-background: var(--sg-text-color, var(--theme-code-foreground, var(--jp-content-font-color1, black)));\n",
       "  --sklearn-color-background: var(--sg-background-color, var(--theme-background, var(--jp-layout-color0, white)));\n",
       "  --sklearn-color-border-box: var(--sg-text-color, var(--theme-code-foreground, var(--jp-content-font-color1, black)));\n",
       "  --sklearn-color-icon: #696969;\n",
       "\n",
       "  @media (prefers-color-scheme: dark) {\n",
       "    /* Redefinition of color scheme for dark theme */\n",
       "    --sklearn-color-text-on-default-background: var(--sg-text-color, var(--theme-code-foreground, var(--jp-content-font-color1, white)));\n",
       "    --sklearn-color-background: var(--sg-background-color, var(--theme-background, var(--jp-layout-color0, #111)));\n",
       "    --sklearn-color-border-box: var(--sg-text-color, var(--theme-code-foreground, var(--jp-content-font-color1, white)));\n",
       "    --sklearn-color-icon: #878787;\n",
       "  }\n",
       "}\n",
       "\n",
       "#sk-container-id-2 {\n",
       "  color: var(--sklearn-color-text);\n",
       "}\n",
       "\n",
       "#sk-container-id-2 pre {\n",
       "  padding: 0;\n",
       "}\n",
       "\n",
       "#sk-container-id-2 input.sk-hidden--visually {\n",
       "  border: 0;\n",
       "  clip: rect(1px 1px 1px 1px);\n",
       "  clip: rect(1px, 1px, 1px, 1px);\n",
       "  height: 1px;\n",
       "  margin: -1px;\n",
       "  overflow: hidden;\n",
       "  padding: 0;\n",
       "  position: absolute;\n",
       "  width: 1px;\n",
       "}\n",
       "\n",
       "#sk-container-id-2 div.sk-dashed-wrapped {\n",
       "  border: 1px dashed var(--sklearn-color-line);\n",
       "  margin: 0 0.4em 0.5em 0.4em;\n",
       "  box-sizing: border-box;\n",
       "  padding-bottom: 0.4em;\n",
       "  background-color: var(--sklearn-color-background);\n",
       "}\n",
       "\n",
       "#sk-container-id-2 div.sk-container {\n",
       "  /* jupyter's `normalize.less` sets `[hidden] { display: none; }`\n",
       "     but bootstrap.min.css set `[hidden] { display: none !important; }`\n",
       "     so we also need the `!important` here to be able to override the\n",
       "     default hidden behavior on the sphinx rendered scikit-learn.org.\n",
       "     See: https://github.com/scikit-learn/scikit-learn/issues/21755 */\n",
       "  display: inline-block !important;\n",
       "  position: relative;\n",
       "}\n",
       "\n",
       "#sk-container-id-2 div.sk-text-repr-fallback {\n",
       "  display: none;\n",
       "}\n",
       "\n",
       "div.sk-parallel-item,\n",
       "div.sk-serial,\n",
       "div.sk-item {\n",
       "  /* draw centered vertical line to link estimators */\n",
       "  background-image: linear-gradient(var(--sklearn-color-text-on-default-background), var(--sklearn-color-text-on-default-background));\n",
       "  background-size: 2px 100%;\n",
       "  background-repeat: no-repeat;\n",
       "  background-position: center center;\n",
       "}\n",
       "\n",
       "/* Parallel-specific style estimator block */\n",
       "\n",
       "#sk-container-id-2 div.sk-parallel-item::after {\n",
       "  content: \"\";\n",
       "  width: 100%;\n",
       "  border-bottom: 2px solid var(--sklearn-color-text-on-default-background);\n",
       "  flex-grow: 1;\n",
       "}\n",
       "\n",
       "#sk-container-id-2 div.sk-parallel {\n",
       "  display: flex;\n",
       "  align-items: stretch;\n",
       "  justify-content: center;\n",
       "  background-color: var(--sklearn-color-background);\n",
       "  position: relative;\n",
       "}\n",
       "\n",
       "#sk-container-id-2 div.sk-parallel-item {\n",
       "  display: flex;\n",
       "  flex-direction: column;\n",
       "}\n",
       "\n",
       "#sk-container-id-2 div.sk-parallel-item:first-child::after {\n",
       "  align-self: flex-end;\n",
       "  width: 50%;\n",
       "}\n",
       "\n",
       "#sk-container-id-2 div.sk-parallel-item:last-child::after {\n",
       "  align-self: flex-start;\n",
       "  width: 50%;\n",
       "}\n",
       "\n",
       "#sk-container-id-2 div.sk-parallel-item:only-child::after {\n",
       "  width: 0;\n",
       "}\n",
       "\n",
       "/* Serial-specific style estimator block */\n",
       "\n",
       "#sk-container-id-2 div.sk-serial {\n",
       "  display: flex;\n",
       "  flex-direction: column;\n",
       "  align-items: center;\n",
       "  background-color: var(--sklearn-color-background);\n",
       "  padding-right: 1em;\n",
       "  padding-left: 1em;\n",
       "}\n",
       "\n",
       "\n",
       "/* Toggleable style: style used for estimator/Pipeline/ColumnTransformer box that is\n",
       "clickable and can be expanded/collapsed.\n",
       "- Pipeline and ColumnTransformer use this feature and define the default style\n",
       "- Estimators will overwrite some part of the style using the `sk-estimator` class\n",
       "*/\n",
       "\n",
       "/* Pipeline and ColumnTransformer style (default) */\n",
       "\n",
       "#sk-container-id-2 div.sk-toggleable {\n",
       "  /* Default theme specific background. It is overwritten whether we have a\n",
       "  specific estimator or a Pipeline/ColumnTransformer */\n",
       "  background-color: var(--sklearn-color-background);\n",
       "}\n",
       "\n",
       "/* Toggleable label */\n",
       "#sk-container-id-2 label.sk-toggleable__label {\n",
       "  cursor: pointer;\n",
       "  display: block;\n",
       "  width: 100%;\n",
       "  margin-bottom: 0;\n",
       "  padding: 0.5em;\n",
       "  box-sizing: border-box;\n",
       "  text-align: center;\n",
       "}\n",
       "\n",
       "#sk-container-id-2 label.sk-toggleable__label-arrow:before {\n",
       "  /* Arrow on the left of the label */\n",
       "  content: \"▸\";\n",
       "  float: left;\n",
       "  margin-right: 0.25em;\n",
       "  color: var(--sklearn-color-icon);\n",
       "}\n",
       "\n",
       "#sk-container-id-2 label.sk-toggleable__label-arrow:hover:before {\n",
       "  color: var(--sklearn-color-text);\n",
       "}\n",
       "\n",
       "/* Toggleable content - dropdown */\n",
       "\n",
       "#sk-container-id-2 div.sk-toggleable__content {\n",
       "  max-height: 0;\n",
       "  max-width: 0;\n",
       "  overflow: hidden;\n",
       "  text-align: left;\n",
       "  /* unfitted */\n",
       "  background-color: var(--sklearn-color-unfitted-level-0);\n",
       "}\n",
       "\n",
       "#sk-container-id-2 div.sk-toggleable__content.fitted {\n",
       "  /* fitted */\n",
       "  background-color: var(--sklearn-color-fitted-level-0);\n",
       "}\n",
       "\n",
       "#sk-container-id-2 div.sk-toggleable__content pre {\n",
       "  margin: 0.2em;\n",
       "  border-radius: 0.25em;\n",
       "  color: var(--sklearn-color-text);\n",
       "  /* unfitted */\n",
       "  background-color: var(--sklearn-color-unfitted-level-0);\n",
       "}\n",
       "\n",
       "#sk-container-id-2 div.sk-toggleable__content.fitted pre {\n",
       "  /* unfitted */\n",
       "  background-color: var(--sklearn-color-fitted-level-0);\n",
       "}\n",
       "\n",
       "#sk-container-id-2 input.sk-toggleable__control:checked~div.sk-toggleable__content {\n",
       "  /* Expand drop-down */\n",
       "  max-height: 200px;\n",
       "  max-width: 100%;\n",
       "  overflow: auto;\n",
       "}\n",
       "\n",
       "#sk-container-id-2 input.sk-toggleable__control:checked~label.sk-toggleable__label-arrow:before {\n",
       "  content: \"▾\";\n",
       "}\n",
       "\n",
       "/* Pipeline/ColumnTransformer-specific style */\n",
       "\n",
       "#sk-container-id-2 div.sk-label input.sk-toggleable__control:checked~label.sk-toggleable__label {\n",
       "  color: var(--sklearn-color-text);\n",
       "  background-color: var(--sklearn-color-unfitted-level-2);\n",
       "}\n",
       "\n",
       "#sk-container-id-2 div.sk-label.fitted input.sk-toggleable__control:checked~label.sk-toggleable__label {\n",
       "  background-color: var(--sklearn-color-fitted-level-2);\n",
       "}\n",
       "\n",
       "/* Estimator-specific style */\n",
       "\n",
       "/* Colorize estimator box */\n",
       "#sk-container-id-2 div.sk-estimator input.sk-toggleable__control:checked~label.sk-toggleable__label {\n",
       "  /* unfitted */\n",
       "  background-color: var(--sklearn-color-unfitted-level-2);\n",
       "}\n",
       "\n",
       "#sk-container-id-2 div.sk-estimator.fitted input.sk-toggleable__control:checked~label.sk-toggleable__label {\n",
       "  /* fitted */\n",
       "  background-color: var(--sklearn-color-fitted-level-2);\n",
       "}\n",
       "\n",
       "#sk-container-id-2 div.sk-label label.sk-toggleable__label,\n",
       "#sk-container-id-2 div.sk-label label {\n",
       "  /* The background is the default theme color */\n",
       "  color: var(--sklearn-color-text-on-default-background);\n",
       "}\n",
       "\n",
       "/* On hover, darken the color of the background */\n",
       "#sk-container-id-2 div.sk-label:hover label.sk-toggleable__label {\n",
       "  color: var(--sklearn-color-text);\n",
       "  background-color: var(--sklearn-color-unfitted-level-2);\n",
       "}\n",
       "\n",
       "/* Label box, darken color on hover, fitted */\n",
       "#sk-container-id-2 div.sk-label.fitted:hover label.sk-toggleable__label.fitted {\n",
       "  color: var(--sklearn-color-text);\n",
       "  background-color: var(--sklearn-color-fitted-level-2);\n",
       "}\n",
       "\n",
       "/* Estimator label */\n",
       "\n",
       "#sk-container-id-2 div.sk-label label {\n",
       "  font-family: monospace;\n",
       "  font-weight: bold;\n",
       "  display: inline-block;\n",
       "  line-height: 1.2em;\n",
       "}\n",
       "\n",
       "#sk-container-id-2 div.sk-label-container {\n",
       "  text-align: center;\n",
       "}\n",
       "\n",
       "/* Estimator-specific */\n",
       "#sk-container-id-2 div.sk-estimator {\n",
       "  font-family: monospace;\n",
       "  border: 1px dotted var(--sklearn-color-border-box);\n",
       "  border-radius: 0.25em;\n",
       "  box-sizing: border-box;\n",
       "  margin-bottom: 0.5em;\n",
       "  /* unfitted */\n",
       "  background-color: var(--sklearn-color-unfitted-level-0);\n",
       "}\n",
       "\n",
       "#sk-container-id-2 div.sk-estimator.fitted {\n",
       "  /* fitted */\n",
       "  background-color: var(--sklearn-color-fitted-level-0);\n",
       "}\n",
       "\n",
       "/* on hover */\n",
       "#sk-container-id-2 div.sk-estimator:hover {\n",
       "  /* unfitted */\n",
       "  background-color: var(--sklearn-color-unfitted-level-2);\n",
       "}\n",
       "\n",
       "#sk-container-id-2 div.sk-estimator.fitted:hover {\n",
       "  /* fitted */\n",
       "  background-color: var(--sklearn-color-fitted-level-2);\n",
       "}\n",
       "\n",
       "/* Specification for estimator info (e.g. \"i\" and \"?\") */\n",
       "\n",
       "/* Common style for \"i\" and \"?\" */\n",
       "\n",
       ".sk-estimator-doc-link,\n",
       "a:link.sk-estimator-doc-link,\n",
       "a:visited.sk-estimator-doc-link {\n",
       "  float: right;\n",
       "  font-size: smaller;\n",
       "  line-height: 1em;\n",
       "  font-family: monospace;\n",
       "  background-color: var(--sklearn-color-background);\n",
       "  border-radius: 1em;\n",
       "  height: 1em;\n",
       "  width: 1em;\n",
       "  text-decoration: none !important;\n",
       "  margin-left: 1ex;\n",
       "  /* unfitted */\n",
       "  border: var(--sklearn-color-unfitted-level-1) 1pt solid;\n",
       "  color: var(--sklearn-color-unfitted-level-1);\n",
       "}\n",
       "\n",
       ".sk-estimator-doc-link.fitted,\n",
       "a:link.sk-estimator-doc-link.fitted,\n",
       "a:visited.sk-estimator-doc-link.fitted {\n",
       "  /* fitted */\n",
       "  border: var(--sklearn-color-fitted-level-1) 1pt solid;\n",
       "  color: var(--sklearn-color-fitted-level-1);\n",
       "}\n",
       "\n",
       "/* On hover */\n",
       "div.sk-estimator:hover .sk-estimator-doc-link:hover,\n",
       ".sk-estimator-doc-link:hover,\n",
       "div.sk-label-container:hover .sk-estimator-doc-link:hover,\n",
       ".sk-estimator-doc-link:hover {\n",
       "  /* unfitted */\n",
       "  background-color: var(--sklearn-color-unfitted-level-3);\n",
       "  color: var(--sklearn-color-background);\n",
       "  text-decoration: none;\n",
       "}\n",
       "\n",
       "div.sk-estimator.fitted:hover .sk-estimator-doc-link.fitted:hover,\n",
       ".sk-estimator-doc-link.fitted:hover,\n",
       "div.sk-label-container:hover .sk-estimator-doc-link.fitted:hover,\n",
       ".sk-estimator-doc-link.fitted:hover {\n",
       "  /* fitted */\n",
       "  background-color: var(--sklearn-color-fitted-level-3);\n",
       "  color: var(--sklearn-color-background);\n",
       "  text-decoration: none;\n",
       "}\n",
       "\n",
       "/* Span, style for the box shown on hovering the info icon */\n",
       ".sk-estimator-doc-link span {\n",
       "  display: none;\n",
       "  z-index: 9999;\n",
       "  position: relative;\n",
       "  font-weight: normal;\n",
       "  right: .2ex;\n",
       "  padding: .5ex;\n",
       "  margin: .5ex;\n",
       "  width: min-content;\n",
       "  min-width: 20ex;\n",
       "  max-width: 50ex;\n",
       "  color: var(--sklearn-color-text);\n",
       "  box-shadow: 2pt 2pt 4pt #999;\n",
       "  /* unfitted */\n",
       "  background: var(--sklearn-color-unfitted-level-0);\n",
       "  border: .5pt solid var(--sklearn-color-unfitted-level-3);\n",
       "}\n",
       "\n",
       ".sk-estimator-doc-link.fitted span {\n",
       "  /* fitted */\n",
       "  background: var(--sklearn-color-fitted-level-0);\n",
       "  border: var(--sklearn-color-fitted-level-3);\n",
       "}\n",
       "\n",
       ".sk-estimator-doc-link:hover span {\n",
       "  display: block;\n",
       "}\n",
       "\n",
       "/* \"?\"-specific style due to the `<a>` HTML tag */\n",
       "\n",
       "#sk-container-id-2 a.estimator_doc_link {\n",
       "  float: right;\n",
       "  font-size: 1rem;\n",
       "  line-height: 1em;\n",
       "  font-family: monospace;\n",
       "  background-color: var(--sklearn-color-background);\n",
       "  border-radius: 1rem;\n",
       "  height: 1rem;\n",
       "  width: 1rem;\n",
       "  text-decoration: none;\n",
       "  /* unfitted */\n",
       "  color: var(--sklearn-color-unfitted-level-1);\n",
       "  border: var(--sklearn-color-unfitted-level-1) 1pt solid;\n",
       "}\n",
       "\n",
       "#sk-container-id-2 a.estimator_doc_link.fitted {\n",
       "  /* fitted */\n",
       "  border: var(--sklearn-color-fitted-level-1) 1pt solid;\n",
       "  color: var(--sklearn-color-fitted-level-1);\n",
       "}\n",
       "\n",
       "/* On hover */\n",
       "#sk-container-id-2 a.estimator_doc_link:hover {\n",
       "  /* unfitted */\n",
       "  background-color: var(--sklearn-color-unfitted-level-3);\n",
       "  color: var(--sklearn-color-background);\n",
       "  text-decoration: none;\n",
       "}\n",
       "\n",
       "#sk-container-id-2 a.estimator_doc_link.fitted:hover {\n",
       "  /* fitted */\n",
       "  background-color: var(--sklearn-color-fitted-level-3);\n",
       "}\n",
       "</style><div id=\"sk-container-id-2\" class=\"sk-top-container\"><div class=\"sk-text-repr-fallback\"><pre>LatentDirichletAllocation(evaluate_every=3, max_iter=20, n_components=5,\n",
       "                          n_jobs=-1, random_state=42)</pre><b>In a Jupyter environment, please rerun this cell to show the HTML representation or trust the notebook. <br />On GitHub, the HTML representation is unable to render, please try loading this page with nbviewer.org.</b></div><div class=\"sk-container\" hidden><div class=\"sk-item\"><div class=\"sk-estimator fitted sk-toggleable\"><input class=\"sk-toggleable__control sk-hidden--visually\" id=\"sk-estimator-id-2\" type=\"checkbox\" checked><label for=\"sk-estimator-id-2\" class=\"sk-toggleable__label fitted sk-toggleable__label-arrow fitted\">&nbsp;&nbsp;LatentDirichletAllocation<a class=\"sk-estimator-doc-link fitted\" rel=\"noreferrer\" target=\"_blank\" href=\"https://scikit-learn.org/1.4/modules/generated/sklearn.decomposition.LatentDirichletAllocation.html\">?<span>Documentation for LatentDirichletAllocation</span></a><span class=\"sk-estimator-doc-link fitted\">i<span>Fitted</span></span></label><div class=\"sk-toggleable__content fitted\"><pre>LatentDirichletAllocation(evaluate_every=3, max_iter=20, n_components=5,\n",
       "                          n_jobs=-1, random_state=42)</pre></div> </div></div></div></div>"
      ],
      "text/plain": [
       "LatentDirichletAllocation(evaluate_every=3, max_iter=20, n_components=5,\n",
       "                          n_jobs=-1, random_state=42)"
      ]
     },
     "execution_count": 31,
     "metadata": {},
     "output_type": "execute_result"
    }
   ],
   "source": [
    "lda_3 = LatentDirichletAllocation(n_components=5, random_state=42, learning_method='batch',max_iter=20, evaluate_every=3,  n_jobs=-1)\n",
    "\n",
    "lda_3.fit(third_quarter_day_vect)"
   ]
  },
  {
   "cell_type": "code",
   "execution_count": 32,
   "metadata": {},
   "outputs": [
    {
     "name": "stdout",
     "output_type": "stream",
     "text": [
      "Topik yang Ditemukan (5 Topik):\n",
      "Topik #1:\n",
      "gejayan rakyat besok sama ketemu\n",
      "Topik #2:\n",
      "jogja gerak mahasiswa gejayan yogyakarta\n",
      "Topik #3:\n",
      "datang suara lawan rakyat jadi\n",
      "Topik #4:\n",
      "mahasiswa besok gejayan ayo suara\n",
      "Topik #5:\n",
      "baik indonesia gejayan jogja mahasiswa\n",
      "\n",
      "\n"
     ]
    }
   ],
   "source": [
    "print(f\"Topik yang Ditemukan ({5} Topik):\")\n",
    "display_topics(lda_3, feature_names3, 5)"
   ]
  },
  {
   "cell_type": "code",
   "execution_count": 50,
   "metadata": {},
   "outputs": [
    {
     "data": {
      "image/png": "[encoded data removed]",
      "text/plain": [
       "<Figure size 640x480 with 1 Axes>"
      ]
     },
     "metadata": {},
     "output_type": "display_data"
    }
   ],
   "source": [
    "import seaborn as sns\n",
    "import matplotlib.pyplot as plt\n",
    "\n",
    "import warnings\n",
    "warnings.filterwarnings(\"ignore\", category=DeprecationWarning)\n",
    "\n",
    "topic_dist = lda_3.transform(third_quarter_day_vect)\n",
    "\n",
    "sns.barplot(x=list(range(topic_dist.shape[1])), y=topic_dist[0])\n",
    "plt.title(\"Distribusi Topik untuk Kuartal Ketiga\")\n",
    "plt.xlabel(\"Topik\")\n",
    "plt.ylabel(\"Probabilitas\")\n",
    "plt.show()"
   ]
  },
  {
   "cell_type": "code",
   "execution_count": 33,
   "metadata": {},
   "outputs": [],
   "source": [
    "# Analisis topik untuk kuartal keempat 22 September 2019\n",
    "vectorizer4 = TfidfVectorizer()\n",
    "\n",
    "fourth_quarter_day = quarter_day_4['tweet'].tolist()"
   ]
  },
  {
   "cell_type": "code",
   "execution_count": 34,
   "metadata": {},
   "outputs": [],
   "source": [
    "fourth_quarter_day_vect = vectorizer4.fit_transform(fourth_quarter_day)\n",
    "feature_names4 = vectorizer4.get_feature_names_out()"
   ]
  },
  {
   "cell_type": "code",
   "execution_count": 35,
   "metadata": {},
   "outputs": [
    {
     "data": {
      "text/html": [
       "<style>#sk-container-id-3 {\n",
       "  /* Definition of color scheme common for light and dark mode */\n",
       "  --sklearn-color-text: black;\n",
       "  --sklearn-color-line: gray;\n",
       "  /* Definition of color scheme for unfitted estimators */\n",
       "  --sklearn-color-unfitted-level-0: #fff5e6;\n",
       "  --sklearn-color-unfitted-level-1: #f6e4d2;\n",
       "  --sklearn-color-unfitted-level-2: #ffe0b3;\n",
       "  --sklearn-color-unfitted-level-3: chocolate;\n",
       "  /* Definition of color scheme for fitted estimators */\n",
       "  --sklearn-color-fitted-level-0: #f0f8ff;\n",
       "  --sklearn-color-fitted-level-1: #d4ebff;\n",
       "  --sklearn-color-fitted-level-2: #b3dbfd;\n",
       "  --sklearn-color-fitted-level-3: cornflowerblue;\n",
       "\n",
       "  /* Specific color for light theme */\n",
       "  --sklearn-color-text-on-default-background: var(--sg-text-color, var(--theme-code-foreground, var(--jp-content-font-color1, black)));\n",
       "  --sklearn-color-background: var(--sg-background-color, var(--theme-background, var(--jp-layout-color0, white)));\n",
       "  --sklearn-color-border-box: var(--sg-text-color, var(--theme-code-foreground, var(--jp-content-font-color1, black)));\n",
       "  --sklearn-color-icon: #696969;\n",
       "\n",
       "  @media (prefers-color-scheme: dark) {\n",
       "    /* Redefinition of color scheme for dark theme */\n",
       "    --sklearn-color-text-on-default-background: var(--sg-text-color, var(--theme-code-foreground, var(--jp-content-font-color1, white)));\n",
       "    --sklearn-color-background: var(--sg-background-color, var(--theme-background, var(--jp-layout-color0, #111)));\n",
       "    --sklearn-color-border-box: var(--sg-text-color, var(--theme-code-foreground, var(--jp-content-font-color1, white)));\n",
       "    --sklearn-color-icon: #878787;\n",
       "  }\n",
       "}\n",
       "\n",
       "#sk-container-id-3 {\n",
       "  color: var(--sklearn-color-text);\n",
       "}\n",
       "\n",
       "#sk-container-id-3 pre {\n",
       "  padding: 0;\n",
       "}\n",
       "\n",
       "#sk-container-id-3 input.sk-hidden--visually {\n",
       "  border: 0;\n",
       "  clip: rect(1px 1px 1px 1px);\n",
       "  clip: rect(1px, 1px, 1px, 1px);\n",
       "  height: 1px;\n",
       "  margin: -1px;\n",
       "  overflow: hidden;\n",
       "  padding: 0;\n",
       "  position: absolute;\n",
       "  width: 1px;\n",
       "}\n",
       "\n",
       "#sk-container-id-3 div.sk-dashed-wrapped {\n",
       "  border: 1px dashed var(--sklearn-color-line);\n",
       "  margin: 0 0.4em 0.5em 0.4em;\n",
       "  box-sizing: border-box;\n",
       "  padding-bottom: 0.4em;\n",
       "  background-color: var(--sklearn-color-background);\n",
       "}\n",
       "\n",
       "#sk-container-id-3 div.sk-container {\n",
       "  /* jupyter's `normalize.less` sets `[hidden] { display: none; }`\n",
       "     but bootstrap.min.css set `[hidden] { display: none !important; }`\n",
       "     so we also need the `!important` here to be able to override the\n",
       "     default hidden behavior on the sphinx rendered scikit-learn.org.\n",
       "     See: https://github.com/scikit-learn/scikit-learn/issues/21755 */\n",
       "  display: inline-block !important;\n",
       "  position: relative;\n",
       "}\n",
       "\n",
       "#sk-container-id-3 div.sk-text-repr-fallback {\n",
       "  display: none;\n",
       "}\n",
       "\n",
       "div.sk-parallel-item,\n",
       "div.sk-serial,\n",
       "div.sk-item {\n",
       "  /* draw centered vertical line to link estimators */\n",
       "  background-image: linear-gradient(var(--sklearn-color-text-on-default-background), var(--sklearn-color-text-on-default-background));\n",
       "  background-size: 2px 100%;\n",
       "  background-repeat: no-repeat;\n",
       "  background-position: center center;\n",
       "}\n",
       "\n",
       "/* Parallel-specific style estimator block */\n",
       "\n",
       "#sk-container-id-3 div.sk-parallel-item::after {\n",
       "  content: \"\";\n",
       "  width: 100%;\n",
       "  border-bottom: 2px solid var(--sklearn-color-text-on-default-background);\n",
       "  flex-grow: 1;\n",
       "}\n",
       "\n",
       "#sk-container-id-3 div.sk-parallel {\n",
       "  display: flex;\n",
       "  align-items: stretch;\n",
       "  justify-content: center;\n",
       "  background-color: var(--sklearn-color-background);\n",
       "  position: relative;\n",
       "}\n",
       "\n",
       "#sk-container-id-3 div.sk-parallel-item {\n",
       "  display: flex;\n",
       "  flex-direction: column;\n",
       "}\n",
       "\n",
       "#sk-container-id-3 div.sk-parallel-item:first-child::after {\n",
       "  align-self: flex-end;\n",
       "  width: 50%;\n",
       "}\n",
       "\n",
       "#sk-container-id-3 div.sk-parallel-item:last-child::after {\n",
       "  align-self: flex-start;\n",
       "  width: 50%;\n",
       "}\n",
       "\n",
       "#sk-container-id-3 div.sk-parallel-item:only-child::after {\n",
       "  width: 0;\n",
       "}\n",
       "\n",
       "/* Serial-specific style estimator block */\n",
       "\n",
       "#sk-container-id-3 div.sk-serial {\n",
       "  display: flex;\n",
       "  flex-direction: column;\n",
       "  align-items: center;\n",
       "  background-color: var(--sklearn-color-background);\n",
       "  padding-right: 1em;\n",
       "  padding-left: 1em;\n",
       "}\n",
       "\n",
       "\n",
       "/* Toggleable style: style used for estimator/Pipeline/ColumnTransformer box that is\n",
       "clickable and can be expanded/collapsed.\n",
       "- Pipeline and ColumnTransformer use this feature and define the default style\n",
       "- Estimators will overwrite some part of the style using the `sk-estimator` class\n",
       "*/\n",
       "\n",
       "/* Pipeline and ColumnTransformer style (default) */\n",
       "\n",
       "#sk-container-id-3 div.sk-toggleable {\n",
       "  /* Default theme specific background. It is overwritten whether we have a\n",
       "  specific estimator or a Pipeline/ColumnTransformer */\n",
       "  background-color: var(--sklearn-color-background);\n",
       "}\n",
       "\n",
       "/* Toggleable label */\n",
       "#sk-container-id-3 label.sk-toggleable__label {\n",
       "  cursor: pointer;\n",
       "  display: block;\n",
       "  width: 100%;\n",
       "  margin-bottom: 0;\n",
       "  padding: 0.5em;\n",
       "  box-sizing: border-box;\n",
       "  text-align: center;\n",
       "}\n",
       "\n",
       "#sk-container-id-3 label.sk-toggleable__label-arrow:before {\n",
       "  /* Arrow on the left of the label */\n",
       "  content: \"▸\";\n",
       "  float: left;\n",
       "  margin-right: 0.25em;\n",
       "  color: var(--sklearn-color-icon);\n",
       "}\n",
       "\n",
       "#sk-container-id-3 label.sk-toggleable__label-arrow:hover:before {\n",
       "  color: var(--sklearn-color-text);\n",
       "}\n",
       "\n",
       "/* Toggleable content - dropdown */\n",
       "\n",
       "#sk-container-id-3 div.sk-toggleable__content {\n",
       "  max-height: 0;\n",
       "  max-width: 0;\n",
       "  overflow: hidden;\n",
       "  text-align: left;\n",
       "  /* unfitted */\n",
       "  background-color: var(--sklearn-color-unfitted-level-0);\n",
       "}\n",
       "\n",
       "#sk-container-id-3 div.sk-toggleable__content.fitted {\n",
       "  /* fitted */\n",
       "  background-color: var(--sklearn-color-fitted-level-0);\n",
       "}\n",
       "\n",
       "#sk-container-id-3 div.sk-toggleable__content pre {\n",
       "  margin: 0.2em;\n",
       "  border-radius: 0.25em;\n",
       "  color: var(--sklearn-color-text);\n",
       "  /* unfitted */\n",
       "  background-color: var(--sklearn-color-unfitted-level-0);\n",
       "}\n",
       "\n",
       "#sk-container-id-3 div.sk-toggleable__content.fitted pre {\n",
       "  /* unfitted */\n",
       "  background-color: var(--sklearn-color-fitted-level-0);\n",
       "}\n",
       "\n",
       "#sk-container-id-3 input.sk-toggleable__control:checked~div.sk-toggleable__content {\n",
       "  /* Expand drop-down */\n",
       "  max-height: 200px;\n",
       "  max-width: 100%;\n",
       "  overflow: auto;\n",
       "}\n",
       "\n",
       "#sk-container-id-3 input.sk-toggleable__control:checked~label.sk-toggleable__label-arrow:before {\n",
       "  content: \"▾\";\n",
       "}\n",
       "\n",
       "/* Pipeline/ColumnTransformer-specific style */\n",
       "\n",
       "#sk-container-id-3 div.sk-label input.sk-toggleable__control:checked~label.sk-toggleable__label {\n",
       "  color: var(--sklearn-color-text);\n",
       "  background-color: var(--sklearn-color-unfitted-level-2);\n",
       "}\n",
       "\n",
       "#sk-container-id-3 div.sk-label.fitted input.sk-toggleable__control:checked~label.sk-toggleable__label {\n",
       "  background-color: var(--sklearn-color-fitted-level-2);\n",
       "}\n",
       "\n",
       "/* Estimator-specific style */\n",
       "\n",
       "/* Colorize estimator box */\n",
       "#sk-container-id-3 div.sk-estimator input.sk-toggleable__control:checked~label.sk-toggleable__label {\n",
       "  /* unfitted */\n",
       "  background-color: var(--sklearn-color-unfitted-level-2);\n",
       "}\n",
       "\n",
       "#sk-container-id-3 div.sk-estimator.fitted input.sk-toggleable__control:checked~label.sk-toggleable__label {\n",
       "  /* fitted */\n",
       "  background-color: var(--sklearn-color-fitted-level-2);\n",
       "}\n",
       "\n",
       "#sk-container-id-3 div.sk-label label.sk-toggleable__label,\n",
       "#sk-container-id-3 div.sk-label label {\n",
       "  /* The background is the default theme color */\n",
       "  color: var(--sklearn-color-text-on-default-background);\n",
       "}\n",
       "\n",
       "/* On hover, darken the color of the background */\n",
       "#sk-container-id-3 div.sk-label:hover label.sk-toggleable__label {\n",
       "  color: var(--sklearn-color-text);\n",
       "  background-color: var(--sklearn-color-unfitted-level-2);\n",
       "}\n",
       "\n",
       "/* Label box, darken color on hover, fitted */\n",
       "#sk-container-id-3 div.sk-label.fitted:hover label.sk-toggleable__label.fitted {\n",
       "  color: var(--sklearn-color-text);\n",
       "  background-color: var(--sklearn-color-fitted-level-2);\n",
       "}\n",
       "\n",
       "/* Estimator label */\n",
       "\n",
       "#sk-container-id-3 div.sk-label label {\n",
       "  font-family: monospace;\n",
       "  font-weight: bold;\n",
       "  display: inline-block;\n",
       "  line-height: 1.2em;\n",
       "}\n",
       "\n",
       "#sk-container-id-3 div.sk-label-container {\n",
       "  text-align: center;\n",
       "}\n",
       "\n",
       "/* Estimator-specific */\n",
       "#sk-container-id-3 div.sk-estimator {\n",
       "  font-family: monospace;\n",
       "  border: 1px dotted var(--sklearn-color-border-box);\n",
       "  border-radius: 0.25em;\n",
       "  box-sizing: border-box;\n",
       "  margin-bottom: 0.5em;\n",
       "  /* unfitted */\n",
       "  background-color: var(--sklearn-color-unfitted-level-0);\n",
       "}\n",
       "\n",
       "#sk-container-id-3 div.sk-estimator.fitted {\n",
       "  /* fitted */\n",
       "  background-color: var(--sklearn-color-fitted-level-0);\n",
       "}\n",
       "\n",
       "/* on hover */\n",
       "#sk-container-id-3 div.sk-estimator:hover {\n",
       "  /* unfitted */\n",
       "  background-color: var(--sklearn-color-unfitted-level-2);\n",
       "}\n",
       "\n",
       "#sk-container-id-3 div.sk-estimator.fitted:hover {\n",
       "  /* fitted */\n",
       "  background-color: var(--sklearn-color-fitted-level-2);\n",
       "}\n",
       "\n",
       "/* Specification for estimator info (e.g. \"i\" and \"?\") */\n",
       "\n",
       "/* Common style for \"i\" and \"?\" */\n",
       "\n",
       ".sk-estimator-doc-link,\n",
       "a:link.sk-estimator-doc-link,\n",
       "a:visited.sk-estimator-doc-link {\n",
       "  float: right;\n",
       "  font-size: smaller;\n",
       "  line-height: 1em;\n",
       "  font-family: monospace;\n",
       "  background-color: var(--sklearn-color-background);\n",
       "  border-radius: 1em;\n",
       "  height: 1em;\n",
       "  width: 1em;\n",
       "  text-decoration: none !important;\n",
       "  margin-left: 1ex;\n",
       "  /* unfitted */\n",
       "  border: var(--sklearn-color-unfitted-level-1) 1pt solid;\n",
       "  color: var(--sklearn-color-unfitted-level-1);\n",
       "}\n",
       "\n",
       ".sk-estimator-doc-link.fitted,\n",
       "a:link.sk-estimator-doc-link.fitted,\n",
       "a:visited.sk-estimator-doc-link.fitted {\n",
       "  /* fitted */\n",
       "  border: var(--sklearn-color-fitted-level-1) 1pt solid;\n",
       "  color: var(--sklearn-color-fitted-level-1);\n",
       "}\n",
       "\n",
       "/* On hover */\n",
       "div.sk-estimator:hover .sk-estimator-doc-link:hover,\n",
       ".sk-estimator-doc-link:hover,\n",
       "div.sk-label-container:hover .sk-estimator-doc-link:hover,\n",
       ".sk-estimator-doc-link:hover {\n",
       "  /* unfitted */\n",
       "  background-color: var(--sklearn-color-unfitted-level-3);\n",
       "  color: var(--sklearn-color-background);\n",
       "  text-decoration: none;\n",
       "}\n",
       "\n",
       "div.sk-estimator.fitted:hover .sk-estimator-doc-link.fitted:hover,\n",
       ".sk-estimator-doc-link.fitted:hover,\n",
       "div.sk-label-container:hover .sk-estimator-doc-link.fitted:hover,\n",
       ".sk-estimator-doc-link.fitted:hover {\n",
       "  /* fitted */\n",
       "  background-color: var(--sklearn-color-fitted-level-3);\n",
       "  color: var(--sklearn-color-background);\n",
       "  text-decoration: none;\n",
       "}\n",
       "\n",
       "/* Span, style for the box shown on hovering the info icon */\n",
       ".sk-estimator-doc-link span {\n",
       "  display: none;\n",
       "  z-index: 9999;\n",
       "  position: relative;\n",
       "  font-weight: normal;\n",
       "  right: .2ex;\n",
       "  padding: .5ex;\n",
       "  margin: .5ex;\n",
       "  width: min-content;\n",
       "  min-width: 20ex;\n",
       "  max-width: 50ex;\n",
       "  color: var(--sklearn-color-text);\n",
       "  box-shadow: 2pt 2pt 4pt #999;\n",
       "  /* unfitted */\n",
       "  background: var(--sklearn-color-unfitted-level-0);\n",
       "  border: .5pt solid var(--sklearn-color-unfitted-level-3);\n",
       "}\n",
       "\n",
       ".sk-estimator-doc-link.fitted span {\n",
       "  /* fitted */\n",
       "  background: var(--sklearn-color-fitted-level-0);\n",
       "  border: var(--sklearn-color-fitted-level-3);\n",
       "}\n",
       "\n",
       ".sk-estimator-doc-link:hover span {\n",
       "  display: block;\n",
       "}\n",
       "\n",
       "/* \"?\"-specific style due to the `<a>` HTML tag */\n",
       "\n",
       "#sk-container-id-3 a.estimator_doc_link {\n",
       "  float: right;\n",
       "  font-size: 1rem;\n",
       "  line-height: 1em;\n",
       "  font-family: monospace;\n",
       "  background-color: var(--sklearn-color-background);\n",
       "  border-radius: 1rem;\n",
       "  height: 1rem;\n",
       "  width: 1rem;\n",
       "  text-decoration: none;\n",
       "  /* unfitted */\n",
       "  color: var(--sklearn-color-unfitted-level-1);\n",
       "  border: var(--sklearn-color-unfitted-level-1) 1pt solid;\n",
       "}\n",
       "\n",
       "#sk-container-id-3 a.estimator_doc_link.fitted {\n",
       "  /* fitted */\n",
       "  border: var(--sklearn-color-fitted-level-1) 1pt solid;\n",
       "  color: var(--sklearn-color-fitted-level-1);\n",
       "}\n",
       "\n",
       "/* On hover */\n",
       "#sk-container-id-3 a.estimator_doc_link:hover {\n",
       "  /* unfitted */\n",
       "  background-color: var(--sklearn-color-unfitted-level-3);\n",
       "  color: var(--sklearn-color-background);\n",
       "  text-decoration: none;\n",
       "}\n",
       "\n",
       "#sk-container-id-3 a.estimator_doc_link.fitted:hover {\n",
       "  /* fitted */\n",
       "  background-color: var(--sklearn-color-fitted-level-3);\n",
       "}\n",
       "</style><div id=\"sk-container-id-3\" class=\"sk-top-container\"><div class=\"sk-text-repr-fallback\"><pre>LatentDirichletAllocation(evaluate_every=3, max_iter=20, n_components=5,\n",
       "                          n_jobs=-1, random_state=42)</pre><b>In a Jupyter environment, please rerun this cell to show the HTML representation or trust the notebook. <br />On GitHub, the HTML representation is unable to render, please try loading this page with nbviewer.org.</b></div><div class=\"sk-container\" hidden><div class=\"sk-item\"><div class=\"sk-estimator fitted sk-toggleable\"><input class=\"sk-toggleable__control sk-hidden--visually\" id=\"sk-estimator-id-3\" type=\"checkbox\" checked><label for=\"sk-estimator-id-3\" class=\"sk-toggleable__label fitted sk-toggleable__label-arrow fitted\">&nbsp;&nbsp;LatentDirichletAllocation<a class=\"sk-estimator-doc-link fitted\" rel=\"noreferrer\" target=\"_blank\" href=\"https://scikit-learn.org/1.4/modules/generated/sklearn.decomposition.LatentDirichletAllocation.html\">?<span>Documentation for LatentDirichletAllocation</span></a><span class=\"sk-estimator-doc-link fitted\">i<span>Fitted</span></span></label><div class=\"sk-toggleable__content fitted\"><pre>LatentDirichletAllocation(evaluate_every=3, max_iter=20, n_components=5,\n",
       "                          n_jobs=-1, random_state=42)</pre></div> </div></div></div></div>"
      ],
      "text/plain": [
       "LatentDirichletAllocation(evaluate_every=3, max_iter=20, n_components=5,\n",
       "                          n_jobs=-1, random_state=42)"
      ]
     },
     "execution_count": 35,
     "metadata": {},
     "output_type": "execute_result"
    }
   ],
   "source": [
    "lda_4 = LatentDirichletAllocation(n_components=5, random_state=42, learning_method='batch',max_iter=20, evaluate_every=3,  n_jobs=-1)\n",
    "\n",
    "lda_4.fit(fourth_quarter_day_vect)"
   ]
  },
  {
   "cell_type": "code",
   "execution_count": 36,
   "metadata": {},
   "outputs": [
    {
     "name": "stdout",
     "output_type": "stream",
     "text": [
      "Topik yang Ditemukan (5 Topik):\n",
      "Topik #1:\n",
      "jogja mahasiswa gejayan rakyat indonesia\n",
      "Topik #2:\n",
      "gejayan besok mahasiswa aksi suara\n",
      "Topik #3:\n",
      "gejayan panggil jogja mahasiswa rakyat\n",
      "Topik #4:\n",
      "suara mahasiswa baik gejayan hidup\n",
      "Topik #5:\n",
      "mahasiswa gejayan indonesia sama apa\n",
      "\n",
      "\n"
     ]
    }
   ],
   "source": [
    "print(f\"Topik yang Ditemukan ({5} Topik):\")\n",
    "display_topics(lda_4, feature_names4, 5)"
   ]
  },
  {
   "cell_type": "code",
   "execution_count": 52,
   "metadata": {},
   "outputs": [
    {
     "data": {
      "image/png": "[encoded data removed]",
      "text/plain": [
       "<Figure size 640x480 with 1 Axes>"
      ]
     },
     "metadata": {},
     "output_type": "display_data"
    }
   ],
   "source": [
    "import seaborn as sns\n",
    "import matplotlib.pyplot as plt\n",
    "\n",
    "import warnings\n",
    "warnings.filterwarnings(\"ignore\", category=DeprecationWarning)\n",
    "\n",
    "topic_dist = lda_4.transform(fourth_quarter_day_vect)\n",
    "\n",
    "sns.barplot(x=list(range(topic_dist.shape[1])), y=topic_dist[0])\n",
    "plt.title(\"Distribusi Topik untuk Kuartal Keempat\")\n",
    "plt.xlabel(\"Topik\")\n",
    "plt.ylabel(\"Probabilitas\")\n",
    "plt.show()"
   ]
  }
 ],
 "metadata": {
  "kernelspec": {
   "display_name": "Python 3",
   "language": "python",
   "name": "python3"
  },
  "language_info": {
   "codemirror_mode": {
    "name": "ipython",
    "version": 3
   },
   "file_extension": ".py",
   "mimetype": "text/x-python",
   "name": "python",
   "nbconvert_exporter": "python",
   "pygments_lexer": "ipython3",
   "version": "3.12.0"
  }
 },
 "nbformat": 4,
 "nbformat_minor": 2
}
